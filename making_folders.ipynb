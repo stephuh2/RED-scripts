{
 "cells": [
  {
   "cell_type": "markdown",
   "metadata": {},
   "source": [
    "# Creating folders and subfolders\n",
    "\n",
    "This is primarily for RED subjects list to have preprocessed derivatives on ownCloud for remote work\n",
    "\n",
    "7 Jan 2020"
   ]
  },
  {
   "cell_type": "markdown",
   "metadata": {},
   "source": [
    "## Aims\n",
    "- Create sub-### folders with subfolders within: anat & func\n",
    "- Copy over files needed"
   ]
  },
  {
   "cell_type": "markdown",
   "metadata": {},
   "source": [
    "Set path for packages (local)"
   ]
  },
  {
   "cell_type": "code",
   "execution_count": 1,
   "metadata": {},
   "outputs": [],
   "source": [
    "import sys\n",
    "sys.path.append('/usr/local/lib/python3.9/site-packages')"
   ]
  },
  {
   "cell_type": "markdown",
   "metadata": {},
   "source": [
    "Set sub list and path where new folders will be created"
   ]
  },
  {
   "cell_type": "code",
   "execution_count": 7,
   "metadata": {},
   "outputs": [],
   "source": [
    "import os\n",
    "\n",
    "# New folder path\n",
    "newfolder = '/Users/stepheniuh/ownCloud/PhD/RED/derivatives'\n",
    "\n",
    "\n",
    "# sub list\n",
    "subject_list = ['003', '006', '007', '008', '009', '010', '011', '012', '013',\\\n",
    "                '014', '015', '016', '017', '018', '019', '021', '024',\\\n",
    "                '025', '027', '029', '030', '031', '035', '036', '037',\\\n",
    "                '038', '039', '040', '041', '044', '045', '047', '048',\\\n",
    "                '050', '051', '052', '053', '054', '055', '056', '057',\\\n",
    "                '058', '060', '062', '063', '064', '069',\\\n",
    "                '070', '072', '073', '075', '076', '077', '078',]\n",
    "\n",
    "#subject = ['002', '005']"
   ]
  },
  {
   "cell_type": "code",
   "execution_count": 9,
   "metadata": {},
   "outputs": [],
   "source": [
    "# Set path\n",
    "os.chdir(newfolder)\n",
    "\n",
    "# for-loop to create sub-0## folder with anat and func folders within\n",
    "for i in range(len(subject_list)):\n",
    "    dir = 'sub-' + subject_list[i]\n",
    "    os.mkdir(dir)\n",
    "    os.mkdir(os.path.join(dir, 'anat'))\n",
    "    os.mkdir(os.path.join(dir, 'func'))"
   ]
  },
  {
   "cell_type": "code",
   "execution_count": null,
   "metadata": {},
   "outputs": [],
   "source": []
  }
 ],
 "metadata": {
  "kernelspec": {
   "display_name": "Python 3",
   "language": "python",
   "name": "python3"
  },
  "language_info": {
   "codemirror_mode": {
    "name": "ipython",
    "version": 3
   },
   "file_extension": ".py",
   "mimetype": "text/x-python",
   "name": "python",
   "nbconvert_exporter": "python",
   "pygments_lexer": "ipython3",
   "version": "3.9.1"
  }
 },
 "nbformat": 4,
 "nbformat_minor": 4
}
