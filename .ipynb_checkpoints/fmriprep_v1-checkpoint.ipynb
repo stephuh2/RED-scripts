{
 "cells": [
  {
   "cell_type": "markdown",
   "metadata": {},
   "source": [
    "### Config TemplateFlow"
   ]
  },
  {
   "cell_type": "code",
   "execution_count": 30,
   "metadata": {},
   "outputs": [],
   "source": [
    "# Test if singularity correctly setting Home binding\n",
    "!export SINGULARITYENV_TEMPLATEFLOW_HOME=/imaging/su01/templateflow"
   ]
  },
  {
   "cell_type": "code",
   "execution_count": 25,
   "metadata": {},
   "outputs": [],
   "source": [
    "!git config --global user.name \"StephUh\"\n",
    "!git config --global user.email \"stephuh2@gmail.com\""
   ]
  },
  {
   "cell_type": "code",
   "execution_count": 26,
   "metadata": {},
   "outputs": [
    {
     "data": {
      "text/plain": [
       "['MNI152Lin',\n",
       " 'MNI152NLin2009cAsym',\n",
       " 'MNI152NLin6Asym',\n",
       " 'MNI152NLin6Sym',\n",
       " 'MNIInfant',\n",
       " 'MNIPediatricAsym',\n",
       " 'NKI',\n",
       " 'OASIS30ANTs',\n",
       " 'PNC',\n",
       " 'fsLR',\n",
       " 'fsaverage']"
      ]
     },
     "execution_count": 26,
     "metadata": {},
     "output_type": "execute_result"
    }
   ],
   "source": [
    "from templateflow.api import templates, get\n",
    "templates()"
   ]
  },
  {
   "cell_type": "code",
   "execution_count": 28,
   "metadata": {},
   "outputs": [
    {
     "data": {
      "text/plain": [
       "'/imaging/su01/RED/scripts'"
      ]
     },
     "execution_count": 28,
     "metadata": {},
     "output_type": "execute_result"
    }
   ],
   "source": [
    "import os\n",
    "os.getcwd()"
   ]
  },
  {
   "cell_type": "markdown",
   "metadata": {},
   "source": [
    "## Download relevant templates"
   ]
  },
  {
   "cell_type": "code",
   "execution_count": 29,
   "metadata": {},
   "outputs": [
    {
     "data": {
      "text/plain": [
       "[PosixPath('/home/su01/.cache/templateflow/tpl-MNI152NLin2009cAsym/CHANGES'),\n",
       " PosixPath('/home/su01/.cache/templateflow/tpl-MNI152NLin2009cAsym/LICENSE'),\n",
       " PosixPath('/home/su01/.cache/templateflow/tpl-MNI152NLin2009cAsym/template_description.json'),\n",
       " PosixPath('/home/su01/.cache/templateflow/tpl-MNI152NLin2009cAsym/tpl-MNI152NLin2009cAsym_atlas-Schaefer2018_desc-100Parcels7Networks_dseg.tsv'),\n",
       " PosixPath('/home/su01/.cache/templateflow/tpl-MNI152NLin2009cAsym/tpl-MNI152NLin2009cAsym_atlas-Schaefer2018_desc-100Parcels17Networks_dseg.tsv'),\n",
       " PosixPath('/home/su01/.cache/templateflow/tpl-MNI152NLin2009cAsym/tpl-MNI152NLin2009cAsym_atlas-Schaefer2018_desc-200Parcels7Networks_dseg.tsv'),\n",
       " PosixPath('/home/su01/.cache/templateflow/tpl-MNI152NLin2009cAsym/tpl-MNI152NLin2009cAsym_atlas-Schaefer2018_desc-200Parcels17Networks_dseg.tsv'),\n",
       " PosixPath('/home/su01/.cache/templateflow/tpl-MNI152NLin2009cAsym/tpl-MNI152NLin2009cAsym_atlas-Schaefer2018_desc-300Parcels7Networks_dseg.tsv'),\n",
       " PosixPath('/home/su01/.cache/templateflow/tpl-MNI152NLin2009cAsym/tpl-MNI152NLin2009cAsym_atlas-Schaefer2018_desc-300Parcels17Networks_dseg.tsv'),\n",
       " PosixPath('/home/su01/.cache/templateflow/tpl-MNI152NLin2009cAsym/tpl-MNI152NLin2009cAsym_atlas-Schaefer2018_desc-400Parcels7Networks_dseg.tsv'),\n",
       " PosixPath('/home/su01/.cache/templateflow/tpl-MNI152NLin2009cAsym/tpl-MNI152NLin2009cAsym_atlas-Schaefer2018_desc-400Parcels17Networks_dseg.tsv'),\n",
       " PosixPath('/home/su01/.cache/templateflow/tpl-MNI152NLin2009cAsym/tpl-MNI152NLin2009cAsym_atlas-Schaefer2018_desc-500Parcels7Networks_dseg.tsv'),\n",
       " PosixPath('/home/su01/.cache/templateflow/tpl-MNI152NLin2009cAsym/tpl-MNI152NLin2009cAsym_atlas-Schaefer2018_desc-500Parcels17Networks_dseg.tsv'),\n",
       " PosixPath('/home/su01/.cache/templateflow/tpl-MNI152NLin2009cAsym/tpl-MNI152NLin2009cAsym_atlas-Schaefer2018_desc-600Parcels7Networks_dseg.tsv'),\n",
       " PosixPath('/home/su01/.cache/templateflow/tpl-MNI152NLin2009cAsym/tpl-MNI152NLin2009cAsym_atlas-Schaefer2018_desc-600Parcels17Networks_dseg.tsv'),\n",
       " PosixPath('/home/su01/.cache/templateflow/tpl-MNI152NLin2009cAsym/tpl-MNI152NLin2009cAsym_atlas-Schaefer2018_desc-800Parcels7Networks_dseg.tsv'),\n",
       " PosixPath('/home/su01/.cache/templateflow/tpl-MNI152NLin2009cAsym/tpl-MNI152NLin2009cAsym_atlas-Schaefer2018_desc-800Parcels17Networks_dseg.tsv'),\n",
       " PosixPath('/home/su01/.cache/templateflow/tpl-MNI152NLin2009cAsym/tpl-MNI152NLin2009cAsym_atlas-Schaefer2018_desc-1000Parcels7Networks_dseg.tsv'),\n",
       " PosixPath('/home/su01/.cache/templateflow/tpl-MNI152NLin2009cAsym/tpl-MNI152NLin2009cAsym_atlas-Schaefer2018_desc-1000Parcels17Networks_dseg.tsv'),\n",
       " PosixPath('/home/su01/.cache/templateflow/tpl-MNI152NLin2009cAsym/tpl-MNI152NLin2009cAsym_from-MNI152NLin6Asym_mode-image_xfm.h5'),\n",
       " PosixPath('/home/su01/.cache/templateflow/tpl-MNI152NLin2009cAsym/tpl-MNI152NLin2009cAsym_from-MNIInfant_mode-image_xfm.mat'),\n",
       " PosixPath('/home/su01/.cache/templateflow/tpl-MNI152NLin2009cAsym/tpl-MNI152NLin2009cAsym_from-OASISTRT20_mode-image_xfm.mat'),\n",
       " PosixPath('/home/su01/.cache/templateflow/tpl-MNI152NLin2009cAsym/tpl-MNI152NLin2009cAsym_res-01_atlas-HOCPA_desc-th0_dseg.nii.gz'),\n",
       " PosixPath('/home/su01/.cache/templateflow/tpl-MNI152NLin2009cAsym/tpl-MNI152NLin2009cAsym_res-01_atlas-HOCPA_desc-th25_dseg.nii.gz'),\n",
       " PosixPath('/home/su01/.cache/templateflow/tpl-MNI152NLin2009cAsym/tpl-MNI152NLin2009cAsym_res-01_atlas-HOCPA_desc-th50_dseg.nii.gz'),\n",
       " PosixPath('/home/su01/.cache/templateflow/tpl-MNI152NLin2009cAsym/tpl-MNI152NLin2009cAsym_res-01_atlas-HOCPAL_desc-th0_dseg.nii.gz'),\n",
       " PosixPath('/home/su01/.cache/templateflow/tpl-MNI152NLin2009cAsym/tpl-MNI152NLin2009cAsym_res-01_atlas-HOCPAL_desc-th25_dseg.nii.gz'),\n",
       " PosixPath('/home/su01/.cache/templateflow/tpl-MNI152NLin2009cAsym/tpl-MNI152NLin2009cAsym_res-01_atlas-HOCPAL_desc-th50_dseg.nii.gz'),\n",
       " PosixPath('/home/su01/.cache/templateflow/tpl-MNI152NLin2009cAsym/tpl-MNI152NLin2009cAsym_res-01_atlas-HOSPA_desc-th0_dseg.nii.gz'),\n",
       " PosixPath('/home/su01/.cache/templateflow/tpl-MNI152NLin2009cAsym/tpl-MNI152NLin2009cAsym_res-01_atlas-HOSPA_desc-th25_dseg.nii.gz'),\n",
       " PosixPath('/home/su01/.cache/templateflow/tpl-MNI152NLin2009cAsym/tpl-MNI152NLin2009cAsym_res-01_atlas-HOSPA_desc-th50_dseg.nii.gz'),\n",
       " PosixPath('/home/su01/.cache/templateflow/tpl-MNI152NLin2009cAsym/tpl-MNI152NLin2009cAsym_res-01_atlas-Schaefer2018_desc-100Parcels7Networks_dseg.nii.gz'),\n",
       " PosixPath('/home/su01/.cache/templateflow/tpl-MNI152NLin2009cAsym/tpl-MNI152NLin2009cAsym_res-01_atlas-Schaefer2018_desc-100Parcels17Networks_dseg.nii.gz'),\n",
       " PosixPath('/home/su01/.cache/templateflow/tpl-MNI152NLin2009cAsym/tpl-MNI152NLin2009cAsym_res-01_atlas-Schaefer2018_desc-200Parcels7Networks_dseg.nii.gz'),\n",
       " PosixPath('/home/su01/.cache/templateflow/tpl-MNI152NLin2009cAsym/tpl-MNI152NLin2009cAsym_res-01_atlas-Schaefer2018_desc-200Parcels17Networks_dseg.nii.gz'),\n",
       " PosixPath('/home/su01/.cache/templateflow/tpl-MNI152NLin2009cAsym/tpl-MNI152NLin2009cAsym_res-01_atlas-Schaefer2018_desc-300Parcels7Networks_dseg.nii.gz'),\n",
       " PosixPath('/home/su01/.cache/templateflow/tpl-MNI152NLin2009cAsym/tpl-MNI152NLin2009cAsym_res-01_atlas-Schaefer2018_desc-300Parcels17Networks_dseg.nii.gz'),\n",
       " PosixPath('/home/su01/.cache/templateflow/tpl-MNI152NLin2009cAsym/tpl-MNI152NLin2009cAsym_res-01_atlas-Schaefer2018_desc-400Parcels7Networks_dseg.nii.gz'),\n",
       " PosixPath('/home/su01/.cache/templateflow/tpl-MNI152NLin2009cAsym/tpl-MNI152NLin2009cAsym_res-01_atlas-Schaefer2018_desc-400Parcels17Networks_dseg.nii.gz'),\n",
       " PosixPath('/home/su01/.cache/templateflow/tpl-MNI152NLin2009cAsym/tpl-MNI152NLin2009cAsym_res-01_atlas-Schaefer2018_desc-500Parcels7Networks_dseg.nii.gz'),\n",
       " PosixPath('/home/su01/.cache/templateflow/tpl-MNI152NLin2009cAsym/tpl-MNI152NLin2009cAsym_res-01_atlas-Schaefer2018_desc-500Parcels17Networks_dseg.nii.gz'),\n",
       " PosixPath('/home/su01/.cache/templateflow/tpl-MNI152NLin2009cAsym/tpl-MNI152NLin2009cAsym_res-01_atlas-Schaefer2018_desc-600Parcels7Networks_dseg.nii.gz'),\n",
       " PosixPath('/home/su01/.cache/templateflow/tpl-MNI152NLin2009cAsym/tpl-MNI152NLin2009cAsym_res-01_atlas-Schaefer2018_desc-600Parcels17Networks_dseg.nii.gz'),\n",
       " PosixPath('/home/su01/.cache/templateflow/tpl-MNI152NLin2009cAsym/tpl-MNI152NLin2009cAsym_res-01_atlas-Schaefer2018_desc-800Parcels7Networks_dseg.nii.gz'),\n",
       " PosixPath('/home/su01/.cache/templateflow/tpl-MNI152NLin2009cAsym/tpl-MNI152NLin2009cAsym_res-01_atlas-Schaefer2018_desc-800Parcels17Networks_dseg.nii.gz'),\n",
       " PosixPath('/home/su01/.cache/templateflow/tpl-MNI152NLin2009cAsym/tpl-MNI152NLin2009cAsym_res-01_atlas-Schaefer2018_desc-1000Parcels7Networks_dseg.nii.gz'),\n",
       " PosixPath('/home/su01/.cache/templateflow/tpl-MNI152NLin2009cAsym/tpl-MNI152NLin2009cAsym_res-01_atlas-Schaefer2018_desc-1000Parcels17Networks_dseg.nii.gz'),\n",
       " PosixPath('/home/su01/.cache/templateflow/tpl-MNI152NLin2009cAsym/tpl-MNI152NLin2009cAsym_res-01_desc-brain_mask.nii.gz'),\n",
       " PosixPath('/home/su01/.cache/templateflow/tpl-MNI152NLin2009cAsym/tpl-MNI152NLin2009cAsym_res-01_desc-brain_T1w.nii.gz'),\n",
       " PosixPath('/home/su01/.cache/templateflow/tpl-MNI152NLin2009cAsym/tpl-MNI152NLin2009cAsym_res-01_desc-BrainCerebellumExtraction_mask.nii.gz'),\n",
       " PosixPath('/home/su01/.cache/templateflow/tpl-MNI152NLin2009cAsym/tpl-MNI152NLin2009cAsym_res-01_desc-BrainCerebellumRegistration_mask.nii.gz'),\n",
       " PosixPath('/home/su01/.cache/templateflow/tpl-MNI152NLin2009cAsym/tpl-MNI152NLin2009cAsym_res-01_desc-carpet_dseg.nii.gz'),\n",
       " PosixPath('/home/su01/.cache/templateflow/tpl-MNI152NLin2009cAsym/tpl-MNI152NLin2009cAsym_res-01_desc-eye_mask.nii.gz'),\n",
       " PosixPath('/home/su01/.cache/templateflow/tpl-MNI152NLin2009cAsym/tpl-MNI152NLin2009cAsym_res-01_desc-face_mask.nii.gz'),\n",
       " PosixPath('/home/su01/.cache/templateflow/tpl-MNI152NLin2009cAsym/tpl-MNI152NLin2009cAsym_res-01_desc-head_mask.nii.gz'),\n",
       " PosixPath('/home/su01/.cache/templateflow/tpl-MNI152NLin2009cAsym/tpl-MNI152NLin2009cAsym_res-01_label-CSF_probseg.nii.gz'),\n",
       " PosixPath('/home/su01/.cache/templateflow/tpl-MNI152NLin2009cAsym/tpl-MNI152NLin2009cAsym_res-01_label-GM_probseg.nii.gz'),\n",
       " PosixPath('/home/su01/.cache/templateflow/tpl-MNI152NLin2009cAsym/tpl-MNI152NLin2009cAsym_res-01_label-WM_probseg.nii.gz'),\n",
       " PosixPath('/home/su01/.cache/templateflow/tpl-MNI152NLin2009cAsym/tpl-MNI152NLin2009cAsym_res-01_PD.nii.gz'),\n",
       " PosixPath('/home/su01/.cache/templateflow/tpl-MNI152NLin2009cAsym/tpl-MNI152NLin2009cAsym_res-01_T1w.nii.gz'),\n",
       " PosixPath('/home/su01/.cache/templateflow/tpl-MNI152NLin2009cAsym/tpl-MNI152NLin2009cAsym_res-01_T2w.nii.gz'),\n",
       " PosixPath('/home/su01/.cache/templateflow/tpl-MNI152NLin2009cAsym/tpl-MNI152NLin2009cAsym_res-02_atlas-HOCPA_desc-th0_dseg.nii.gz'),\n",
       " PosixPath('/home/su01/.cache/templateflow/tpl-MNI152NLin2009cAsym/tpl-MNI152NLin2009cAsym_res-02_atlas-HOCPA_desc-th25_dseg.nii.gz'),\n",
       " PosixPath('/home/su01/.cache/templateflow/tpl-MNI152NLin2009cAsym/tpl-MNI152NLin2009cAsym_res-02_atlas-HOCPA_desc-th50_dseg.nii.gz'),\n",
       " PosixPath('/home/su01/.cache/templateflow/tpl-MNI152NLin2009cAsym/tpl-MNI152NLin2009cAsym_res-02_atlas-HOCPAL_desc-th0_dseg.nii.gz'),\n",
       " PosixPath('/home/su01/.cache/templateflow/tpl-MNI152NLin2009cAsym/tpl-MNI152NLin2009cAsym_res-02_atlas-HOCPAL_desc-th25_dseg.nii.gz'),\n",
       " PosixPath('/home/su01/.cache/templateflow/tpl-MNI152NLin2009cAsym/tpl-MNI152NLin2009cAsym_res-02_atlas-HOCPAL_desc-th50_dseg.nii.gz'),\n",
       " PosixPath('/home/su01/.cache/templateflow/tpl-MNI152NLin2009cAsym/tpl-MNI152NLin2009cAsym_res-02_atlas-HOSPA_desc-th0_dseg.nii.gz'),\n",
       " PosixPath('/home/su01/.cache/templateflow/tpl-MNI152NLin2009cAsym/tpl-MNI152NLin2009cAsym_res-02_atlas-HOSPA_desc-th25_dseg.nii.gz'),\n",
       " PosixPath('/home/su01/.cache/templateflow/tpl-MNI152NLin2009cAsym/tpl-MNI152NLin2009cAsym_res-02_atlas-HOSPA_desc-th50_dseg.nii.gz'),\n",
       " PosixPath('/home/su01/.cache/templateflow/tpl-MNI152NLin2009cAsym/tpl-MNI152NLin2009cAsym_res-02_atlas-HOSPA_probseg.nii.gz'),\n",
       " PosixPath('/home/su01/.cache/templateflow/tpl-MNI152NLin2009cAsym/tpl-MNI152NLin2009cAsym_res-02_atlas-Schaefer2018_desc-100Parcels7Networks_dseg.nii.gz'),\n",
       " PosixPath('/home/su01/.cache/templateflow/tpl-MNI152NLin2009cAsym/tpl-MNI152NLin2009cAsym_res-02_atlas-Schaefer2018_desc-100Parcels17Networks_dseg.nii.gz'),\n",
       " PosixPath('/home/su01/.cache/templateflow/tpl-MNI152NLin2009cAsym/tpl-MNI152NLin2009cAsym_res-02_atlas-Schaefer2018_desc-200Parcels7Networks_dseg.nii.gz'),\n",
       " PosixPath('/home/su01/.cache/templateflow/tpl-MNI152NLin2009cAsym/tpl-MNI152NLin2009cAsym_res-02_atlas-Schaefer2018_desc-200Parcels17Networks_dseg.nii.gz'),\n",
       " PosixPath('/home/su01/.cache/templateflow/tpl-MNI152NLin2009cAsym/tpl-MNI152NLin2009cAsym_res-02_atlas-Schaefer2018_desc-300Parcels7Networks_dseg.nii.gz'),\n",
       " PosixPath('/home/su01/.cache/templateflow/tpl-MNI152NLin2009cAsym/tpl-MNI152NLin2009cAsym_res-02_atlas-Schaefer2018_desc-300Parcels17Networks_dseg.nii.gz'),\n",
       " PosixPath('/home/su01/.cache/templateflow/tpl-MNI152NLin2009cAsym/tpl-MNI152NLin2009cAsym_res-02_atlas-Schaefer2018_desc-400Parcels7Networks_dseg.nii.gz'),\n",
       " PosixPath('/home/su01/.cache/templateflow/tpl-MNI152NLin2009cAsym/tpl-MNI152NLin2009cAsym_res-02_atlas-Schaefer2018_desc-400Parcels17Networks_dseg.nii.gz'),\n",
       " PosixPath('/home/su01/.cache/templateflow/tpl-MNI152NLin2009cAsym/tpl-MNI152NLin2009cAsym_res-02_atlas-Schaefer2018_desc-500Parcels7Networks_dseg.nii.gz'),\n",
       " PosixPath('/home/su01/.cache/templateflow/tpl-MNI152NLin2009cAsym/tpl-MNI152NLin2009cAsym_res-02_atlas-Schaefer2018_desc-500Parcels17Networks_dseg.nii.gz'),\n",
       " PosixPath('/home/su01/.cache/templateflow/tpl-MNI152NLin2009cAsym/tpl-MNI152NLin2009cAsym_res-02_atlas-Schaefer2018_desc-600Parcels7Networks_dseg.nii.gz'),\n",
       " PosixPath('/home/su01/.cache/templateflow/tpl-MNI152NLin2009cAsym/tpl-MNI152NLin2009cAsym_res-02_atlas-Schaefer2018_desc-600Parcels17Networks_dseg.nii.gz'),\n",
       " PosixPath('/home/su01/.cache/templateflow/tpl-MNI152NLin2009cAsym/tpl-MNI152NLin2009cAsym_res-02_atlas-Schaefer2018_desc-800Parcels7Networks_dseg.nii.gz'),\n",
       " PosixPath('/home/su01/.cache/templateflow/tpl-MNI152NLin2009cAsym/tpl-MNI152NLin2009cAsym_res-02_atlas-Schaefer2018_desc-800Parcels17Networks_dseg.nii.gz'),\n",
       " PosixPath('/home/su01/.cache/templateflow/tpl-MNI152NLin2009cAsym/tpl-MNI152NLin2009cAsym_res-02_atlas-Schaefer2018_desc-1000Parcels7Networks_dseg.nii.gz'),\n",
       " PosixPath('/home/su01/.cache/templateflow/tpl-MNI152NLin2009cAsym/tpl-MNI152NLin2009cAsym_res-02_atlas-Schaefer2018_desc-1000Parcels17Networks_dseg.nii.gz'),\n",
       " PosixPath('/home/su01/.cache/templateflow/tpl-MNI152NLin2009cAsym/tpl-MNI152NLin2009cAsym_res-02_desc-brain_mask.nii.gz'),\n",
       " PosixPath('/home/su01/.cache/templateflow/tpl-MNI152NLin2009cAsym/tpl-MNI152NLin2009cAsym_res-02_desc-brain_T1w.nii.gz'),\n",
       " PosixPath('/home/su01/.cache/templateflow/tpl-MNI152NLin2009cAsym/tpl-MNI152NLin2009cAsym_res-02_desc-carpet_dseg.nii.gz'),\n",
       " PosixPath('/home/su01/.cache/templateflow/tpl-MNI152NLin2009cAsym/tpl-MNI152NLin2009cAsym_res-02_desc-DKT31_dseg.nii.gz'),\n",
       " PosixPath('/home/su01/.cache/templateflow/tpl-MNI152NLin2009cAsym/tpl-MNI152NLin2009cAsym_res-02_desc-eye_mask.nii.gz'),\n",
       " PosixPath('/home/su01/.cache/templateflow/tpl-MNI152NLin2009cAsym/tpl-MNI152NLin2009cAsym_res-02_desc-face_mask.nii.gz'),\n",
       " PosixPath('/home/su01/.cache/templateflow/tpl-MNI152NLin2009cAsym/tpl-MNI152NLin2009cAsym_res-02_desc-fMRIPrep_boldref.nii.gz'),\n",
       " PosixPath('/home/su01/.cache/templateflow/tpl-MNI152NLin2009cAsym/tpl-MNI152NLin2009cAsym_res-02_desc-head_mask.nii.gz'),\n",
       " PosixPath('/home/su01/.cache/templateflow/tpl-MNI152NLin2009cAsym/tpl-MNI152NLin2009cAsym_res-02_label-CSF_probseg.nii.gz'),\n",
       " PosixPath('/home/su01/.cache/templateflow/tpl-MNI152NLin2009cAsym/tpl-MNI152NLin2009cAsym_res-02_label-GM_probseg.nii.gz'),\n",
       " PosixPath('/home/su01/.cache/templateflow/tpl-MNI152NLin2009cAsym/tpl-MNI152NLin2009cAsym_res-02_label-WM_probseg.nii.gz'),\n",
       " PosixPath('/home/su01/.cache/templateflow/tpl-MNI152NLin2009cAsym/tpl-MNI152NLin2009cAsym_res-02_PD.nii.gz'),\n",
       " PosixPath('/home/su01/.cache/templateflow/tpl-MNI152NLin2009cAsym/tpl-MNI152NLin2009cAsym_res-02_T1w.nii.gz'),\n",
       " PosixPath('/home/su01/.cache/templateflow/tpl-MNI152NLin2009cAsym/tpl-MNI152NLin2009cAsym_res-02_T2w.nii.gz')]"
      ]
     },
     "execution_count": 29,
     "metadata": {},
     "output_type": "execute_result"
    }
   ],
   "source": [
    "# Needed for Carpet Plots\n",
    "\n",
    "import templateflow.api\n",
    "templateflow.api.TF_S3_ROOT = 'http://templateflow.s3.amazonaws.com'\n",
    "get('MNI152NLin2009cAsym')"
   ]
  },
  {
   "cell_type": "code",
   "execution_count": 5,
   "metadata": {},
   "outputs": [
    {
     "data": {
      "text/plain": [
       "[PosixPath('/home/su01/.cache/templateflow/tpl-MNI152NLin6Asym/scripts/sanitize.py'),\n",
       " PosixPath('/home/su01/.cache/templateflow/tpl-MNI152NLin6Asym/scripts/schaefer.py'),\n",
       " PosixPath('/home/su01/.cache/templateflow/tpl-MNI152NLin6Asym/template_description.json'),\n",
       " PosixPath('/home/su01/.cache/templateflow/tpl-MNI152NLin6Asym/tpl-MNI152NLin6Asym_atlas-HOCPA_dseg.tsv'),\n",
       " PosixPath('/home/su01/.cache/templateflow/tpl-MNI152NLin6Asym/tpl-MNI152NLin6Asym_atlas-HOCPAL_dseg.tsv'),\n",
       " PosixPath('/home/su01/.cache/templateflow/tpl-MNI152NLin6Asym/tpl-MNI152NLin6Asym_atlas-HOSPA_dseg.tsv'),\n",
       " PosixPath('/home/su01/.cache/templateflow/tpl-MNI152NLin6Asym/tpl-MNI152NLin6Asym_atlas-Schaefer2018_desc-100Parcels7Networks_dseg.tsv'),\n",
       " PosixPath('/home/su01/.cache/templateflow/tpl-MNI152NLin6Asym/tpl-MNI152NLin6Asym_atlas-Schaefer2018_desc-100Parcels17Networks_dseg.tsv'),\n",
       " PosixPath('/home/su01/.cache/templateflow/tpl-MNI152NLin6Asym/tpl-MNI152NLin6Asym_atlas-Schaefer2018_desc-200Parcels7Networks_dseg.tsv'),\n",
       " PosixPath('/home/su01/.cache/templateflow/tpl-MNI152NLin6Asym/tpl-MNI152NLin6Asym_atlas-Schaefer2018_desc-200Parcels17Networks_dseg.tsv'),\n",
       " PosixPath('/home/su01/.cache/templateflow/tpl-MNI152NLin6Asym/tpl-MNI152NLin6Asym_atlas-Schaefer2018_desc-300Parcels7Networks_dseg.tsv'),\n",
       " PosixPath('/home/su01/.cache/templateflow/tpl-MNI152NLin6Asym/tpl-MNI152NLin6Asym_atlas-Schaefer2018_desc-300Parcels17Networks_dseg.tsv'),\n",
       " PosixPath('/home/su01/.cache/templateflow/tpl-MNI152NLin6Asym/tpl-MNI152NLin6Asym_atlas-Schaefer2018_desc-400Parcels7Networks_dseg.tsv'),\n",
       " PosixPath('/home/su01/.cache/templateflow/tpl-MNI152NLin6Asym/tpl-MNI152NLin6Asym_atlas-Schaefer2018_desc-400Parcels17Networks_dseg.tsv'),\n",
       " PosixPath('/home/su01/.cache/templateflow/tpl-MNI152NLin6Asym/tpl-MNI152NLin6Asym_atlas-Schaefer2018_desc-500Parcels7Networks_dseg.tsv'),\n",
       " PosixPath('/home/su01/.cache/templateflow/tpl-MNI152NLin6Asym/tpl-MNI152NLin6Asym_atlas-Schaefer2018_desc-500Parcels17Networks_dseg.tsv'),\n",
       " PosixPath('/home/su01/.cache/templateflow/tpl-MNI152NLin6Asym/tpl-MNI152NLin6Asym_atlas-Schaefer2018_desc-600Parcels7Networks_dseg.tsv'),\n",
       " PosixPath('/home/su01/.cache/templateflow/tpl-MNI152NLin6Asym/tpl-MNI152NLin6Asym_atlas-Schaefer2018_desc-600Parcels17Networks_dseg.tsv'),\n",
       " PosixPath('/home/su01/.cache/templateflow/tpl-MNI152NLin6Asym/tpl-MNI152NLin6Asym_atlas-Schaefer2018_desc-800Parcels7Networks_dseg.tsv'),\n",
       " PosixPath('/home/su01/.cache/templateflow/tpl-MNI152NLin6Asym/tpl-MNI152NLin6Asym_atlas-Schaefer2018_desc-800Parcels17Networks_dseg.tsv'),\n",
       " PosixPath('/home/su01/.cache/templateflow/tpl-MNI152NLin6Asym/tpl-MNI152NLin6Asym_atlas-Schaefer2018_desc-1000Parcels7Networks_dseg.tsv'),\n",
       " PosixPath('/home/su01/.cache/templateflow/tpl-MNI152NLin6Asym/tpl-MNI152NLin6Asym_atlas-Schaefer2018_desc-1000Parcels17Networks_dseg.tsv'),\n",
       " PosixPath('/home/su01/.cache/templateflow/tpl-MNI152NLin6Asym/tpl-MNI152NLin6Asym_res-01_atlas-HOCPA_desc-th0_dseg.nii.gz'),\n",
       " PosixPath('/home/su01/.cache/templateflow/tpl-MNI152NLin6Asym/tpl-MNI152NLin6Asym_res-01_atlas-HOCPA_desc-th25_dseg.nii.gz'),\n",
       " PosixPath('/home/su01/.cache/templateflow/tpl-MNI152NLin6Asym/tpl-MNI152NLin6Asym_res-01_atlas-HOCPA_desc-th50_dseg.nii.gz'),\n",
       " PosixPath('/home/su01/.cache/templateflow/tpl-MNI152NLin6Asym/tpl-MNI152NLin6Asym_res-01_atlas-HOCPA_probseg.nii.gz'),\n",
       " PosixPath('/home/su01/.cache/templateflow/tpl-MNI152NLin6Asym/tpl-MNI152NLin6Asym_res-01_atlas-HOCPAL_desc-th0_dseg.nii.gz'),\n",
       " PosixPath('/home/su01/.cache/templateflow/tpl-MNI152NLin6Asym/tpl-MNI152NLin6Asym_res-01_atlas-HOCPAL_desc-th25_dseg.nii.gz'),\n",
       " PosixPath('/home/su01/.cache/templateflow/tpl-MNI152NLin6Asym/tpl-MNI152NLin6Asym_res-01_atlas-HOCPAL_desc-th50_dseg.nii.gz'),\n",
       " PosixPath('/home/su01/.cache/templateflow/tpl-MNI152NLin6Asym/tpl-MNI152NLin6Asym_res-01_atlas-HOCPAL_probseg.nii.gz'),\n",
       " PosixPath('/home/su01/.cache/templateflow/tpl-MNI152NLin6Asym/tpl-MNI152NLin6Asym_res-01_atlas-HOSPA_desc-th0_dseg.nii.gz'),\n",
       " PosixPath('/home/su01/.cache/templateflow/tpl-MNI152NLin6Asym/tpl-MNI152NLin6Asym_res-01_atlas-HOSPA_desc-th25_dseg.nii.gz'),\n",
       " PosixPath('/home/su01/.cache/templateflow/tpl-MNI152NLin6Asym/tpl-MNI152NLin6Asym_res-01_atlas-HOSPA_desc-th50_dseg.nii.gz'),\n",
       " PosixPath('/home/su01/.cache/templateflow/tpl-MNI152NLin6Asym/tpl-MNI152NLin6Asym_res-01_atlas-HOSPA_probseg.nii.gz'),\n",
       " PosixPath('/home/su01/.cache/templateflow/tpl-MNI152NLin6Asym/tpl-MNI152NLin6Asym_res-01_atlas-Schaefer2018_desc-100Parcels7Networks_dseg.nii.gz'),\n",
       " PosixPath('/home/su01/.cache/templateflow/tpl-MNI152NLin6Asym/tpl-MNI152NLin6Asym_res-01_atlas-Schaefer2018_desc-100Parcels17Networks_dseg.nii.gz'),\n",
       " PosixPath('/home/su01/.cache/templateflow/tpl-MNI152NLin6Asym/tpl-MNI152NLin6Asym_res-01_atlas-Schaefer2018_desc-200Parcels7Networks_dseg.nii.gz'),\n",
       " PosixPath('/home/su01/.cache/templateflow/tpl-MNI152NLin6Asym/tpl-MNI152NLin6Asym_res-01_atlas-Schaefer2018_desc-200Parcels17Networks_dseg.nii.gz'),\n",
       " PosixPath('/home/su01/.cache/templateflow/tpl-MNI152NLin6Asym/tpl-MNI152NLin6Asym_res-01_atlas-Schaefer2018_desc-300Parcels7Networks_dseg.nii.gz'),\n",
       " PosixPath('/home/su01/.cache/templateflow/tpl-MNI152NLin6Asym/tpl-MNI152NLin6Asym_res-01_atlas-Schaefer2018_desc-300Parcels17Networks_dseg.nii.gz'),\n",
       " PosixPath('/home/su01/.cache/templateflow/tpl-MNI152NLin6Asym/tpl-MNI152NLin6Asym_res-01_atlas-Schaefer2018_desc-400Parcels7Networks_dseg.nii.gz'),\n",
       " PosixPath('/home/su01/.cache/templateflow/tpl-MNI152NLin6Asym/tpl-MNI152NLin6Asym_res-01_atlas-Schaefer2018_desc-400Parcels17Networks_dseg.nii.gz'),\n",
       " PosixPath('/home/su01/.cache/templateflow/tpl-MNI152NLin6Asym/tpl-MNI152NLin6Asym_res-01_atlas-Schaefer2018_desc-500Parcels7Networks_dseg.nii.gz'),\n",
       " PosixPath('/home/su01/.cache/templateflow/tpl-MNI152NLin6Asym/tpl-MNI152NLin6Asym_res-01_atlas-Schaefer2018_desc-500Parcels17Networks_dseg.nii.gz'),\n",
       " PosixPath('/home/su01/.cache/templateflow/tpl-MNI152NLin6Asym/tpl-MNI152NLin6Asym_res-01_atlas-Schaefer2018_desc-600Parcels7Networks_dseg.nii.gz'),\n",
       " PosixPath('/home/su01/.cache/templateflow/tpl-MNI152NLin6Asym/tpl-MNI152NLin6Asym_res-01_atlas-Schaefer2018_desc-600Parcels17Networks_dseg.nii.gz'),\n",
       " PosixPath('/home/su01/.cache/templateflow/tpl-MNI152NLin6Asym/tpl-MNI152NLin6Asym_res-01_atlas-Schaefer2018_desc-800Parcels7Networks_dseg.nii.gz'),\n",
       " PosixPath('/home/su01/.cache/templateflow/tpl-MNI152NLin6Asym/tpl-MNI152NLin6Asym_res-01_atlas-Schaefer2018_desc-800Parcels17Networks_dseg.nii.gz'),\n",
       " PosixPath('/home/su01/.cache/templateflow/tpl-MNI152NLin6Asym/tpl-MNI152NLin6Asym_res-01_atlas-Schaefer2018_desc-1000Parcels7Networks_dseg.nii.gz'),\n",
       " PosixPath('/home/su01/.cache/templateflow/tpl-MNI152NLin6Asym/tpl-MNI152NLin6Asym_res-01_atlas-Schaefer2018_desc-1000Parcels17Networks_dseg.nii.gz'),\n",
       " PosixPath('/home/su01/.cache/templateflow/tpl-MNI152NLin6Asym/tpl-MNI152NLin6Asym_res-01_desc-brain_mask.nii.gz'),\n",
       " PosixPath('/home/su01/.cache/templateflow/tpl-MNI152NLin6Asym/tpl-MNI152NLin6Asym_res-01_desc-brain_T1w.nii.gz'),\n",
       " PosixPath('/home/su01/.cache/templateflow/tpl-MNI152NLin6Asym/tpl-MNI152NLin6Asym_res-01_desc-HippocampusDil8_mask.nii.gz'),\n",
       " PosixPath('/home/su01/.cache/templateflow/tpl-MNI152NLin6Asym/tpl-MNI152NLin6Asym_res-01_T1w.nii.gz'),\n",
       " PosixPath('/home/su01/.cache/templateflow/tpl-MNI152NLin6Asym/tpl-MNI152NLin6Asym_res-02_atlas-HOCPA_desc-th0_dseg.nii.gz'),\n",
       " PosixPath('/home/su01/.cache/templateflow/tpl-MNI152NLin6Asym/tpl-MNI152NLin6Asym_res-02_atlas-HOCPA_desc-th25_dseg.nii.gz'),\n",
       " PosixPath('/home/su01/.cache/templateflow/tpl-MNI152NLin6Asym/tpl-MNI152NLin6Asym_res-02_atlas-HOCPA_desc-th50_dseg.nii.gz'),\n",
       " PosixPath('/home/su01/.cache/templateflow/tpl-MNI152NLin6Asym/tpl-MNI152NLin6Asym_res-02_atlas-HOCPA_probseg.nii.gz'),\n",
       " PosixPath('/home/su01/.cache/templateflow/tpl-MNI152NLin6Asym/tpl-MNI152NLin6Asym_res-02_atlas-HOCPAL_desc-th0_dseg.nii.gz'),\n",
       " PosixPath('/home/su01/.cache/templateflow/tpl-MNI152NLin6Asym/tpl-MNI152NLin6Asym_res-02_atlas-HOCPAL_desc-th25_dseg.nii.gz'),\n",
       " PosixPath('/home/su01/.cache/templateflow/tpl-MNI152NLin6Asym/tpl-MNI152NLin6Asym_res-02_atlas-HOCPAL_desc-th50_dseg.nii.gz'),\n",
       " PosixPath('/home/su01/.cache/templateflow/tpl-MNI152NLin6Asym/tpl-MNI152NLin6Asym_res-02_atlas-HOCPAL_probseg.nii.gz'),\n",
       " PosixPath('/home/su01/.cache/templateflow/tpl-MNI152NLin6Asym/tpl-MNI152NLin6Asym_res-02_atlas-HOSPA_desc-th0_dseg.nii.gz'),\n",
       " PosixPath('/home/su01/.cache/templateflow/tpl-MNI152NLin6Asym/tpl-MNI152NLin6Asym_res-02_atlas-HOSPA_desc-th25_dseg.nii.gz'),\n",
       " PosixPath('/home/su01/.cache/templateflow/tpl-MNI152NLin6Asym/tpl-MNI152NLin6Asym_res-02_atlas-HOSPA_desc-th50_dseg.nii.gz'),\n",
       " PosixPath('/home/su01/.cache/templateflow/tpl-MNI152NLin6Asym/tpl-MNI152NLin6Asym_res-02_atlas-HOSPA_probseg.nii.gz'),\n",
       " PosixPath('/home/su01/.cache/templateflow/tpl-MNI152NLin6Asym/tpl-MNI152NLin6Asym_res-02_atlas-Schaefer2018_desc-100Parcels7Networks_dseg.nii.gz'),\n",
       " PosixPath('/home/su01/.cache/templateflow/tpl-MNI152NLin6Asym/tpl-MNI152NLin6Asym_res-02_atlas-Schaefer2018_desc-100Parcels17Networks_dseg.nii.gz'),\n",
       " PosixPath('/home/su01/.cache/templateflow/tpl-MNI152NLin6Asym/tpl-MNI152NLin6Asym_res-02_atlas-Schaefer2018_desc-200Parcels7Networks_dseg.nii.gz'),\n",
       " PosixPath('/home/su01/.cache/templateflow/tpl-MNI152NLin6Asym/tpl-MNI152NLin6Asym_res-02_atlas-Schaefer2018_desc-200Parcels17Networks_dseg.nii.gz'),\n",
       " PosixPath('/home/su01/.cache/templateflow/tpl-MNI152NLin6Asym/tpl-MNI152NLin6Asym_res-02_atlas-Schaefer2018_desc-300Parcels7Networks_dseg.nii.gz'),\n",
       " PosixPath('/home/su01/.cache/templateflow/tpl-MNI152NLin6Asym/tpl-MNI152NLin6Asym_res-02_atlas-Schaefer2018_desc-300Parcels17Networks_dseg.nii.gz'),\n",
       " PosixPath('/home/su01/.cache/templateflow/tpl-MNI152NLin6Asym/tpl-MNI152NLin6Asym_res-02_atlas-Schaefer2018_desc-400Parcels7Networks_dseg.nii.gz'),\n",
       " PosixPath('/home/su01/.cache/templateflow/tpl-MNI152NLin6Asym/tpl-MNI152NLin6Asym_res-02_atlas-Schaefer2018_desc-400Parcels17Networks_dseg.nii.gz'),\n",
       " PosixPath('/home/su01/.cache/templateflow/tpl-MNI152NLin6Asym/tpl-MNI152NLin6Asym_res-02_atlas-Schaefer2018_desc-500Parcels7Networks_dseg.nii.gz'),\n",
       " PosixPath('/home/su01/.cache/templateflow/tpl-MNI152NLin6Asym/tpl-MNI152NLin6Asym_res-02_atlas-Schaefer2018_desc-500Parcels17Networks_dseg.nii.gz'),\n",
       " PosixPath('/home/su01/.cache/templateflow/tpl-MNI152NLin6Asym/tpl-MNI152NLin6Asym_res-02_atlas-Schaefer2018_desc-600Parcels7Networks_dseg.nii.gz'),\n",
       " PosixPath('/home/su01/.cache/templateflow/tpl-MNI152NLin6Asym/tpl-MNI152NLin6Asym_res-02_atlas-Schaefer2018_desc-600Parcels17Networks_dseg.nii.gz'),\n",
       " PosixPath('/home/su01/.cache/templateflow/tpl-MNI152NLin6Asym/tpl-MNI152NLin6Asym_res-02_atlas-Schaefer2018_desc-800Parcels7Networks_dseg.nii.gz'),\n",
       " PosixPath('/home/su01/.cache/templateflow/tpl-MNI152NLin6Asym/tpl-MNI152NLin6Asym_res-02_atlas-Schaefer2018_desc-800Parcels17Networks_dseg.nii.gz'),\n",
       " PosixPath('/home/su01/.cache/templateflow/tpl-MNI152NLin6Asym/tpl-MNI152NLin6Asym_res-02_atlas-Schaefer2018_desc-1000Parcels7Networks_dseg.nii.gz'),\n",
       " PosixPath('/home/su01/.cache/templateflow/tpl-MNI152NLin6Asym/tpl-MNI152NLin6Asym_res-02_atlas-Schaefer2018_desc-1000Parcels17Networks_dseg.nii.gz'),\n",
       " PosixPath('/home/su01/.cache/templateflow/tpl-MNI152NLin6Asym/tpl-MNI152NLin6Asym_res-02_desc-b0_mask.nii.gz'),\n",
       " PosixPath('/home/su01/.cache/templateflow/tpl-MNI152NLin6Asym/tpl-MNI152NLin6Asym_res-02_desc-brain_mask.nii.gz'),\n",
       " PosixPath('/home/su01/.cache/templateflow/tpl-MNI152NLin6Asym/tpl-MNI152NLin6Asym_res-02_desc-brain_T1w.nii.gz'),\n",
       " PosixPath('/home/su01/.cache/templateflow/tpl-MNI152NLin6Asym/tpl-MNI152NLin6Asym_res-02_desc-eyes_mask.nii.gz'),\n",
       " PosixPath('/home/su01/.cache/templateflow/tpl-MNI152NLin6Asym/tpl-MNI152NLin6Asym_res-02_desc-LR_T1w.nii.gz'),\n",
       " PosixPath('/home/su01/.cache/templateflow/tpl-MNI152NLin6Asym/tpl-MNI152NLin6Asym_res-02_T1w.nii.gz'),\n",
       " PosixPath('/home/su01/.cache/templateflow/tpl-MNI152NLin6Asym/tpl-MNI152NLin6Asym_res-03_T1w.nii.gz')]"
      ]
     },
     "execution_count": 5,
     "metadata": {},
     "output_type": "execute_result"
    }
   ],
   "source": [
    "# Standard Template\n",
    "\n",
    "import templateflow.api\n",
    "templateflow.api.TF_S3_ROOT = 'http://templateflow.s3.amazonaws.com'\n",
    "get('MNI152NLin6Asym')"
   ]
  },
  {
   "cell_type": "code",
   "execution_count": 6,
   "metadata": {},
   "outputs": [
    {
     "data": {
      "text/plain": [
       "[PosixPath('/home/su01/.cache/templateflow/tpl-MNIPediatricAsym/cohort-1/tpl-MNIPediatricAsym_cohort-1_res-1_desc-brain_mask.nii.gz'),\n",
       " PosixPath('/home/su01/.cache/templateflow/tpl-MNIPediatricAsym/cohort-1/tpl-MNIPediatricAsym_cohort-1_res-1_label-CSF_probseg.nii.gz'),\n",
       " PosixPath('/home/su01/.cache/templateflow/tpl-MNIPediatricAsym/cohort-1/tpl-MNIPediatricAsym_cohort-1_res-1_label-GM_probseg.nii.gz'),\n",
       " PosixPath('/home/su01/.cache/templateflow/tpl-MNIPediatricAsym/cohort-1/tpl-MNIPediatricAsym_cohort-1_res-1_label-WM_probseg.nii.gz'),\n",
       " PosixPath('/home/su01/.cache/templateflow/tpl-MNIPediatricAsym/cohort-1/tpl-MNIPediatricAsym_cohort-1_res-1_PD.nii.gz'),\n",
       " PosixPath('/home/su01/.cache/templateflow/tpl-MNIPediatricAsym/cohort-1/tpl-MNIPediatricAsym_cohort-1_res-1_T1w.nii.gz'),\n",
       " PosixPath('/home/su01/.cache/templateflow/tpl-MNIPediatricAsym/cohort-1/tpl-MNIPediatricAsym_cohort-1_res-1_T2w.nii.gz'),\n",
       " PosixPath('/home/su01/.cache/templateflow/tpl-MNIPediatricAsym/cohort-1/tpl-MNIPediatricAsym_cohort-1_res-2_desc-brain_mask.nii.gz'),\n",
       " PosixPath('/home/su01/.cache/templateflow/tpl-MNIPediatricAsym/cohort-1/tpl-MNIPediatricAsym_cohort-1_res-2_label-CSF_probseg.nii.gz'),\n",
       " PosixPath('/home/su01/.cache/templateflow/tpl-MNIPediatricAsym/cohort-1/tpl-MNIPediatricAsym_cohort-1_res-2_label-GM_probseg.nii.gz'),\n",
       " PosixPath('/home/su01/.cache/templateflow/tpl-MNIPediatricAsym/cohort-1/tpl-MNIPediatricAsym_cohort-1_res-2_label-WM_probseg.nii.gz'),\n",
       " PosixPath('/home/su01/.cache/templateflow/tpl-MNIPediatricAsym/cohort-1/tpl-MNIPediatricAsym_cohort-1_res-2_PD.nii.gz'),\n",
       " PosixPath('/home/su01/.cache/templateflow/tpl-MNIPediatricAsym/cohort-1/tpl-MNIPediatricAsym_cohort-1_res-2_T1w.nii.gz'),\n",
       " PosixPath('/home/su01/.cache/templateflow/tpl-MNIPediatricAsym/cohort-1/tpl-MNIPediatricAsym_cohort-1_res-2_T2w.nii.gz'),\n",
       " PosixPath('/home/su01/.cache/templateflow/tpl-MNIPediatricAsym/cohort-2/tpl-MNIPediatricAsym_cohort-2_res-1_desc-brain_mask.nii.gz'),\n",
       " PosixPath('/home/su01/.cache/templateflow/tpl-MNIPediatricAsym/cohort-2/tpl-MNIPediatricAsym_cohort-2_res-1_label-CSF_probseg.nii.gz'),\n",
       " PosixPath('/home/su01/.cache/templateflow/tpl-MNIPediatricAsym/cohort-2/tpl-MNIPediatricAsym_cohort-2_res-1_label-GM_probseg.nii.gz'),\n",
       " PosixPath('/home/su01/.cache/templateflow/tpl-MNIPediatricAsym/cohort-2/tpl-MNIPediatricAsym_cohort-2_res-1_label-WM_probseg.nii.gz'),\n",
       " PosixPath('/home/su01/.cache/templateflow/tpl-MNIPediatricAsym/cohort-2/tpl-MNIPediatricAsym_cohort-2_res-1_PD.nii.gz'),\n",
       " PosixPath('/home/su01/.cache/templateflow/tpl-MNIPediatricAsym/cohort-2/tpl-MNIPediatricAsym_cohort-2_res-1_T1w.nii.gz'),\n",
       " PosixPath('/home/su01/.cache/templateflow/tpl-MNIPediatricAsym/cohort-2/tpl-MNIPediatricAsym_cohort-2_res-1_T2w.nii.gz'),\n",
       " PosixPath('/home/su01/.cache/templateflow/tpl-MNIPediatricAsym/cohort-2/tpl-MNIPediatricAsym_cohort-2_res-2_desc-brain_mask.nii.gz'),\n",
       " PosixPath('/home/su01/.cache/templateflow/tpl-MNIPediatricAsym/cohort-2/tpl-MNIPediatricAsym_cohort-2_res-2_label-CSF_probseg.nii.gz'),\n",
       " PosixPath('/home/su01/.cache/templateflow/tpl-MNIPediatricAsym/cohort-2/tpl-MNIPediatricAsym_cohort-2_res-2_label-GM_probseg.nii.gz'),\n",
       " PosixPath('/home/su01/.cache/templateflow/tpl-MNIPediatricAsym/cohort-2/tpl-MNIPediatricAsym_cohort-2_res-2_label-WM_probseg.nii.gz'),\n",
       " PosixPath('/home/su01/.cache/templateflow/tpl-MNIPediatricAsym/cohort-2/tpl-MNIPediatricAsym_cohort-2_res-2_PD.nii.gz'),\n",
       " PosixPath('/home/su01/.cache/templateflow/tpl-MNIPediatricAsym/cohort-2/tpl-MNIPediatricAsym_cohort-2_res-2_T1w.nii.gz'),\n",
       " PosixPath('/home/su01/.cache/templateflow/tpl-MNIPediatricAsym/cohort-2/tpl-MNIPediatricAsym_cohort-2_res-2_T2w.nii.gz'),\n",
       " PosixPath('/home/su01/.cache/templateflow/tpl-MNIPediatricAsym/cohort-3/tpl-MNIPediatricAsym_cohort-3_res-1_desc-brain_mask.nii.gz'),\n",
       " PosixPath('/home/su01/.cache/templateflow/tpl-MNIPediatricAsym/cohort-3/tpl-MNIPediatricAsym_cohort-3_res-1_label-CSF_probseg.nii.gz'),\n",
       " PosixPath('/home/su01/.cache/templateflow/tpl-MNIPediatricAsym/cohort-3/tpl-MNIPediatricAsym_cohort-3_res-1_label-GM_probseg.nii.gz'),\n",
       " PosixPath('/home/su01/.cache/templateflow/tpl-MNIPediatricAsym/cohort-3/tpl-MNIPediatricAsym_cohort-3_res-1_label-WM_probseg.nii.gz'),\n",
       " PosixPath('/home/su01/.cache/templateflow/tpl-MNIPediatricAsym/cohort-3/tpl-MNIPediatricAsym_cohort-3_res-1_PD.nii.gz'),\n",
       " PosixPath('/home/su01/.cache/templateflow/tpl-MNIPediatricAsym/cohort-3/tpl-MNIPediatricAsym_cohort-3_res-1_T1w.nii.gz'),\n",
       " PosixPath('/home/su01/.cache/templateflow/tpl-MNIPediatricAsym/cohort-3/tpl-MNIPediatricAsym_cohort-3_res-1_T2w.nii.gz'),\n",
       " PosixPath('/home/su01/.cache/templateflow/tpl-MNIPediatricAsym/cohort-3/tpl-MNIPediatricAsym_cohort-3_res-2_desc-brain_mask.nii.gz'),\n",
       " PosixPath('/home/su01/.cache/templateflow/tpl-MNIPediatricAsym/cohort-3/tpl-MNIPediatricAsym_cohort-3_res-2_label-CSF_probseg.nii.gz'),\n",
       " PosixPath('/home/su01/.cache/templateflow/tpl-MNIPediatricAsym/cohort-3/tpl-MNIPediatricAsym_cohort-3_res-2_label-GM_probseg.nii.gz'),\n",
       " PosixPath('/home/su01/.cache/templateflow/tpl-MNIPediatricAsym/cohort-3/tpl-MNIPediatricAsym_cohort-3_res-2_label-WM_probseg.nii.gz'),\n",
       " PosixPath('/home/su01/.cache/templateflow/tpl-MNIPediatricAsym/cohort-3/tpl-MNIPediatricAsym_cohort-3_res-2_PD.nii.gz'),\n",
       " PosixPath('/home/su01/.cache/templateflow/tpl-MNIPediatricAsym/cohort-3/tpl-MNIPediatricAsym_cohort-3_res-2_T1w.nii.gz'),\n",
       " PosixPath('/home/su01/.cache/templateflow/tpl-MNIPediatricAsym/cohort-3/tpl-MNIPediatricAsym_cohort-3_res-2_T2w.nii.gz'),\n",
       " PosixPath('/home/su01/.cache/templateflow/tpl-MNIPediatricAsym/cohort-4/tpl-MNIPediatricAsym_cohort-4_res-1_desc-brain_mask.nii.gz'),\n",
       " PosixPath('/home/su01/.cache/templateflow/tpl-MNIPediatricAsym/cohort-4/tpl-MNIPediatricAsym_cohort-4_res-1_label-CSF_probseg.nii.gz'),\n",
       " PosixPath('/home/su01/.cache/templateflow/tpl-MNIPediatricAsym/cohort-4/tpl-MNIPediatricAsym_cohort-4_res-1_label-GM_probseg.nii.gz'),\n",
       " PosixPath('/home/su01/.cache/templateflow/tpl-MNIPediatricAsym/cohort-4/tpl-MNIPediatricAsym_cohort-4_res-1_label-WM_probseg.nii.gz'),\n",
       " PosixPath('/home/su01/.cache/templateflow/tpl-MNIPediatricAsym/cohort-4/tpl-MNIPediatricAsym_cohort-4_res-1_PD.nii.gz'),\n",
       " PosixPath('/home/su01/.cache/templateflow/tpl-MNIPediatricAsym/cohort-4/tpl-MNIPediatricAsym_cohort-4_res-1_T1w.nii.gz'),\n",
       " PosixPath('/home/su01/.cache/templateflow/tpl-MNIPediatricAsym/cohort-4/tpl-MNIPediatricAsym_cohort-4_res-1_T2w.nii.gz'),\n",
       " PosixPath('/home/su01/.cache/templateflow/tpl-MNIPediatricAsym/cohort-4/tpl-MNIPediatricAsym_cohort-4_res-2_desc-brain_mask.nii.gz'),\n",
       " PosixPath('/home/su01/.cache/templateflow/tpl-MNIPediatricAsym/cohort-4/tpl-MNIPediatricAsym_cohort-4_res-2_label-CSF_probseg.nii.gz'),\n",
       " PosixPath('/home/su01/.cache/templateflow/tpl-MNIPediatricAsym/cohort-4/tpl-MNIPediatricAsym_cohort-4_res-2_label-GM_probseg.nii.gz'),\n",
       " PosixPath('/home/su01/.cache/templateflow/tpl-MNIPediatricAsym/cohort-4/tpl-MNIPediatricAsym_cohort-4_res-2_label-WM_probseg.nii.gz'),\n",
       " PosixPath('/home/su01/.cache/templateflow/tpl-MNIPediatricAsym/cohort-4/tpl-MNIPediatricAsym_cohort-4_res-2_PD.nii.gz'),\n",
       " PosixPath('/home/su01/.cache/templateflow/tpl-MNIPediatricAsym/cohort-4/tpl-MNIPediatricAsym_cohort-4_res-2_T1w.nii.gz'),\n",
       " PosixPath('/home/su01/.cache/templateflow/tpl-MNIPediatricAsym/cohort-4/tpl-MNIPediatricAsym_cohort-4_res-2_T2w.nii.gz'),\n",
       " PosixPath('/home/su01/.cache/templateflow/tpl-MNIPediatricAsym/cohort-5/tpl-MNIPediatricAsym_cohort-5_res-1_desc-brain_mask.nii.gz'),\n",
       " PosixPath('/home/su01/.cache/templateflow/tpl-MNIPediatricAsym/cohort-5/tpl-MNIPediatricAsym_cohort-5_res-1_label-CSF_probseg.nii.gz'),\n",
       " PosixPath('/home/su01/.cache/templateflow/tpl-MNIPediatricAsym/cohort-5/tpl-MNIPediatricAsym_cohort-5_res-1_label-GM_probseg.nii.gz'),\n",
       " PosixPath('/home/su01/.cache/templateflow/tpl-MNIPediatricAsym/cohort-5/tpl-MNIPediatricAsym_cohort-5_res-1_label-WM_probseg.nii.gz'),\n",
       " PosixPath('/home/su01/.cache/templateflow/tpl-MNIPediatricAsym/cohort-5/tpl-MNIPediatricAsym_cohort-5_res-1_PD.nii.gz'),\n",
       " PosixPath('/home/su01/.cache/templateflow/tpl-MNIPediatricAsym/cohort-5/tpl-MNIPediatricAsym_cohort-5_res-1_T1w.nii.gz'),\n",
       " PosixPath('/home/su01/.cache/templateflow/tpl-MNIPediatricAsym/cohort-5/tpl-MNIPediatricAsym_cohort-5_res-1_T2w.nii.gz'),\n",
       " PosixPath('/home/su01/.cache/templateflow/tpl-MNIPediatricAsym/cohort-5/tpl-MNIPediatricAsym_cohort-5_res-2_desc-brain_mask.nii.gz'),\n",
       " PosixPath('/home/su01/.cache/templateflow/tpl-MNIPediatricAsym/cohort-5/tpl-MNIPediatricAsym_cohort-5_res-2_label-CSF_probseg.nii.gz'),\n",
       " PosixPath('/home/su01/.cache/templateflow/tpl-MNIPediatricAsym/cohort-5/tpl-MNIPediatricAsym_cohort-5_res-2_label-GM_probseg.nii.gz'),\n",
       " PosixPath('/home/su01/.cache/templateflow/tpl-MNIPediatricAsym/cohort-5/tpl-MNIPediatricAsym_cohort-5_res-2_label-WM_probseg.nii.gz'),\n",
       " PosixPath('/home/su01/.cache/templateflow/tpl-MNIPediatricAsym/cohort-5/tpl-MNIPediatricAsym_cohort-5_res-2_PD.nii.gz'),\n",
       " PosixPath('/home/su01/.cache/templateflow/tpl-MNIPediatricAsym/cohort-5/tpl-MNIPediatricAsym_cohort-5_res-2_T1w.nii.gz'),\n",
       " PosixPath('/home/su01/.cache/templateflow/tpl-MNIPediatricAsym/cohort-5/tpl-MNIPediatricAsym_cohort-5_res-2_T2w.nii.gz'),\n",
       " PosixPath('/home/su01/.cache/templateflow/tpl-MNIPediatricAsym/cohort-6/tpl-MNIPediatricAsym_cohort-6_res-1_desc-brain_mask.nii.gz'),\n",
       " PosixPath('/home/su01/.cache/templateflow/tpl-MNIPediatricAsym/cohort-6/tpl-MNIPediatricAsym_cohort-6_res-1_label-CSF_probseg.nii.gz'),\n",
       " PosixPath('/home/su01/.cache/templateflow/tpl-MNIPediatricAsym/cohort-6/tpl-MNIPediatricAsym_cohort-6_res-1_label-GM_probseg.nii.gz'),\n",
       " PosixPath('/home/su01/.cache/templateflow/tpl-MNIPediatricAsym/cohort-6/tpl-MNIPediatricAsym_cohort-6_res-1_label-WM_probseg.nii.gz'),\n",
       " PosixPath('/home/su01/.cache/templateflow/tpl-MNIPediatricAsym/cohort-6/tpl-MNIPediatricAsym_cohort-6_res-1_PD.nii.gz'),\n",
       " PosixPath('/home/su01/.cache/templateflow/tpl-MNIPediatricAsym/cohort-6/tpl-MNIPediatricAsym_cohort-6_res-1_T1w.nii.gz'),\n",
       " PosixPath('/home/su01/.cache/templateflow/tpl-MNIPediatricAsym/cohort-6/tpl-MNIPediatricAsym_cohort-6_res-1_T2w.nii.gz'),\n",
       " PosixPath('/home/su01/.cache/templateflow/tpl-MNIPediatricAsym/cohort-6/tpl-MNIPediatricAsym_cohort-6_res-2_desc-brain_mask.nii.gz'),\n",
       " PosixPath('/home/su01/.cache/templateflow/tpl-MNIPediatricAsym/cohort-6/tpl-MNIPediatricAsym_cohort-6_res-2_label-CSF_probseg.nii.gz'),\n",
       " PosixPath('/home/su01/.cache/templateflow/tpl-MNIPediatricAsym/cohort-6/tpl-MNIPediatricAsym_cohort-6_res-2_label-GM_probseg.nii.gz'),\n",
       " PosixPath('/home/su01/.cache/templateflow/tpl-MNIPediatricAsym/cohort-6/tpl-MNIPediatricAsym_cohort-6_res-2_label-WM_probseg.nii.gz'),\n",
       " PosixPath('/home/su01/.cache/templateflow/tpl-MNIPediatricAsym/cohort-6/tpl-MNIPediatricAsym_cohort-6_res-2_PD.nii.gz'),\n",
       " PosixPath('/home/su01/.cache/templateflow/tpl-MNIPediatricAsym/cohort-6/tpl-MNIPediatricAsym_cohort-6_res-2_T1w.nii.gz'),\n",
       " PosixPath('/home/su01/.cache/templateflow/tpl-MNIPediatricAsym/cohort-6/tpl-MNIPediatricAsym_cohort-6_res-2_T2w.nii.gz'),\n",
       " PosixPath('/home/su01/.cache/templateflow/tpl-MNIPediatricAsym/LICENSE'),\n",
       " PosixPath('/home/su01/.cache/templateflow/tpl-MNIPediatricAsym/scripts/sanitize.py'),\n",
       " PosixPath('/home/su01/.cache/templateflow/tpl-MNIPediatricAsym/template_description.json')]"
      ]
     },
     "execution_count": 6,
     "metadata": {},
     "output_type": "execute_result"
    }
   ],
   "source": [
    "import templateflow.api\n",
    "templateflow.api.TF_S3_ROOT = 'http://templateflow.s3.amazonaws.com'\n",
    "get('MNIPediatricAsym')"
   ]
  },
  {
   "cell_type": "code",
   "execution_count": null,
   "metadata": {
    "collapsed": true,
    "jupyter": {
     "outputs_hidden": true,
     "source_hidden": true
    }
   },
   "outputs": [],
   "source": [
    "# Needed for freesurfer recon-all (surface reconstruction)\n",
    "\n",
    "import templateflow.api\n",
    "templateflow.api.TF_S3_ROOT = 'http://templateflow.s3.amazonaws.com'\n",
    "get('fsaverage')"
   ]
  },
  {
   "cell_type": "code",
   "execution_count": 7,
   "metadata": {},
   "outputs": [
    {
     "data": {
      "text/plain": [
       "[PosixPath('/home/su01/.cache/templateflow/tpl-fsaverage/template_description.json'),\n",
       " PosixPath('/home/su01/.cache/templateflow/tpl-fsaverage/tpl-fsaverage_dseg.tsv'),\n",
       " PosixPath('/home/su01/.cache/templateflow/tpl-fsaverage/tpl-fsaverage_hemi-L_den-3k_pial.surf.gii'),\n",
       " PosixPath('/home/su01/.cache/templateflow/tpl-fsaverage/tpl-fsaverage_hemi-L_den-3k_sphere.surf.gii'),\n",
       " PosixPath('/home/su01/.cache/templateflow/tpl-fsaverage/tpl-fsaverage_hemi-L_den-3k_white.surf.gii'),\n",
       " PosixPath('/home/su01/.cache/templateflow/tpl-fsaverage/tpl-fsaverage_hemi-L_den-10k_pial.surf.gii'),\n",
       " PosixPath('/home/su01/.cache/templateflow/tpl-fsaverage/tpl-fsaverage_hemi-L_den-10k_sphere.surf.gii'),\n",
       " PosixPath('/home/su01/.cache/templateflow/tpl-fsaverage/tpl-fsaverage_hemi-L_den-10k_white.surf.gii'),\n",
       " PosixPath('/home/su01/.cache/templateflow/tpl-fsaverage/tpl-fsaverage_hemi-L_den-41k_pial.surf.gii'),\n",
       " PosixPath('/home/su01/.cache/templateflow/tpl-fsaverage/tpl-fsaverage_hemi-L_den-41k_sphere.surf.gii'),\n",
       " PosixPath('/home/su01/.cache/templateflow/tpl-fsaverage/tpl-fsaverage_hemi-L_den-41k_white.surf.gii'),\n",
       " PosixPath('/home/su01/.cache/templateflow/tpl-fsaverage/tpl-fsaverage_hemi-L_den-164k_pial.surf.gii'),\n",
       " PosixPath('/home/su01/.cache/templateflow/tpl-fsaverage/tpl-fsaverage_hemi-L_den-164k_sphere.surf.gii'),\n",
       " PosixPath('/home/su01/.cache/templateflow/tpl-fsaverage/tpl-fsaverage_hemi-L_den-164k_white.surf.gii'),\n",
       " PosixPath('/home/su01/.cache/templateflow/tpl-fsaverage/tpl-fsaverage_hemi-R_den-3k_pial.surf.gii'),\n",
       " PosixPath('/home/su01/.cache/templateflow/tpl-fsaverage/tpl-fsaverage_hemi-R_den-3k_sphere.surf.gii'),\n",
       " PosixPath('/home/su01/.cache/templateflow/tpl-fsaverage/tpl-fsaverage_hemi-R_den-3k_white.surf.gii'),\n",
       " PosixPath('/home/su01/.cache/templateflow/tpl-fsaverage/tpl-fsaverage_hemi-R_den-10k_pial.surf.gii'),\n",
       " PosixPath('/home/su01/.cache/templateflow/tpl-fsaverage/tpl-fsaverage_hemi-R_den-10k_sphere.surf.gii'),\n",
       " PosixPath('/home/su01/.cache/templateflow/tpl-fsaverage/tpl-fsaverage_hemi-R_den-10k_white.surf.gii'),\n",
       " PosixPath('/home/su01/.cache/templateflow/tpl-fsaverage/tpl-fsaverage_hemi-R_den-41k_pial.surf.gii'),\n",
       " PosixPath('/home/su01/.cache/templateflow/tpl-fsaverage/tpl-fsaverage_hemi-R_den-41k_sphere.surf.gii'),\n",
       " PosixPath('/home/su01/.cache/templateflow/tpl-fsaverage/tpl-fsaverage_hemi-R_den-41k_white.surf.gii'),\n",
       " PosixPath('/home/su01/.cache/templateflow/tpl-fsaverage/tpl-fsaverage_hemi-R_den-164k_pial.surf.gii'),\n",
       " PosixPath('/home/su01/.cache/templateflow/tpl-fsaverage/tpl-fsaverage_hemi-R_den-164k_sphere.surf.gii'),\n",
       " PosixPath('/home/su01/.cache/templateflow/tpl-fsaverage/tpl-fsaverage_hemi-R_den-164k_white.surf.gii'),\n",
       " PosixPath('/home/su01/.cache/templateflow/tpl-fsaverage/tpl-fsaverage_res-01_den-41k_T1w.nii.gz'),\n",
       " PosixPath('/home/su01/.cache/templateflow/tpl-fsaverage/tpl-fsaverage_res-01_desc-brain_mask.nii.gz'),\n",
       " PosixPath('/home/su01/.cache/templateflow/tpl-fsaverage/tpl-fsaverage_res-01_T1w.nii.gz')]"
      ]
     },
     "execution_count": 7,
     "metadata": {},
     "output_type": "execute_result"
    }
   ],
   "source": [
    "import templateflow.api\n",
    "templateflow.api.TF_S3_ROOT = 'http://templateflow.s3.amazonaws.com'\n",
    "get('fsaverage')"
   ]
  },
  {
   "cell_type": "code",
   "execution_count": 8,
   "metadata": {},
   "outputs": [
    {
     "data": {
      "text/plain": [
       "[PosixPath('/home/su01/.cache/templateflow/tpl-OASIS30ANTs/CHANGES'),\n",
       " PosixPath('/home/su01/.cache/templateflow/tpl-OASIS30ANTs/template_description.json'),\n",
       " PosixPath('/home/su01/.cache/templateflow/tpl-OASIS30ANTs/template_sample.tsv'),\n",
       " PosixPath('/home/su01/.cache/templateflow/tpl-OASIS30ANTs/tpl-OASIS30ANTs_res-01_desc-4_dseg.nii.gz'),\n",
       " PosixPath('/home/su01/.cache/templateflow/tpl-OASIS30ANTs/tpl-OASIS30ANTs_res-01_desc-4_dseg.tsv'),\n",
       " PosixPath('/home/su01/.cache/templateflow/tpl-OASIS30ANTs/tpl-OASIS30ANTs_res-01_desc-6_dseg.nii.gz'),\n",
       " PosixPath('/home/su01/.cache/templateflow/tpl-OASIS30ANTs/tpl-OASIS30ANTs_res-01_desc-6_dseg.tsv'),\n",
       " PosixPath('/home/su01/.cache/templateflow/tpl-OASIS30ANTs/tpl-OASIS30ANTs_res-01_desc-brain_mask.nii.gz'),\n",
       " PosixPath('/home/su01/.cache/templateflow/tpl-OASIS30ANTs/tpl-OASIS30ANTs_res-01_desc-brain_T1w.nii.gz'),\n",
       " PosixPath('/home/su01/.cache/templateflow/tpl-OASIS30ANTs/tpl-OASIS30ANTs_res-01_desc-BrainCerebellumExtraction_mask.nii.gz'),\n",
       " PosixPath('/home/su01/.cache/templateflow/tpl-OASIS30ANTs/tpl-OASIS30ANTs_res-01_desc-BrainCerebellumRegistration_mask.nii.gz'),\n",
       " PosixPath('/home/su01/.cache/templateflow/tpl-OASIS30ANTs/tpl-OASIS30ANTs_res-01_label-brain_probseg.nii.gz'),\n",
       " PosixPath('/home/su01/.cache/templateflow/tpl-OASIS30ANTs/tpl-OASIS30ANTs_res-01_label-BS_probseg.nii.gz'),\n",
       " PosixPath('/home/su01/.cache/templateflow/tpl-OASIS30ANTs/tpl-OASIS30ANTs_res-01_label-CBM_probseg.nii.gz'),\n",
       " PosixPath('/home/su01/.cache/templateflow/tpl-OASIS30ANTs/tpl-OASIS30ANTs_res-01_label-CGM_probseg.nii.gz'),\n",
       " PosixPath('/home/su01/.cache/templateflow/tpl-OASIS30ANTs/tpl-OASIS30ANTs_res-01_label-CSF_probseg.nii.gz'),\n",
       " PosixPath('/home/su01/.cache/templateflow/tpl-OASIS30ANTs/tpl-OASIS30ANTs_res-01_label-SCGM_probseg.nii.gz'),\n",
       " PosixPath('/home/su01/.cache/templateflow/tpl-OASIS30ANTs/tpl-OASIS30ANTs_res-01_label-WM_probseg.nii.gz'),\n",
       " PosixPath('/home/su01/.cache/templateflow/tpl-OASIS30ANTs/tpl-OASIS30ANTs_res-01_T1w.nii.gz')]"
      ]
     },
     "execution_count": 8,
     "metadata": {},
     "output_type": "execute_result"
    }
   ],
   "source": [
    "# Standard skull strip template\n",
    "\n",
    "import templateflow.api\n",
    "templateflow.api.TF_S3_ROOT = 'http://templateflow.s3.amazonaws.com'\n",
    "get('OASIS30ANTs')"
   ]
  },
  {
   "cell_type": "markdown",
   "metadata": {},
   "source": [
    "## Run fmriprep"
   ]
  },
  {
   "cell_type": "code",
   "execution_count": 37,
   "metadata": {
    "collapsed": true,
    "jupyter": {
     "outputs_hidden": true,
     "source_hidden": true
    }
   },
   "outputs": [
    {
     "name": "stdout",
     "output_type": "stream",
     "text": [
      "sbatch --mincpus=6 --time=48:00:00 --job-name=fmriprep --output /imaging/su01/RED/files/sub-013.out singularity exec -C -B /imaging/su01/RED:/RED -B /imaging/su01/RED/bids:/bids -B /home/su01/.cache/templateflow:/templateflow -B /home/su01/.cache/fmriprep:/home/fmriprep -B /tmp:/tmp /imaging/local/software/singularity_images/fmriprep/fmriprep-1.5.0.simg fmriprep /bids /bids/derivatives/fmriprep-1.5.0 participant --participant_label 013 -v -w /bids/derivatives/fmriprepwork-1.5.0 -t task --skull-strip-template MNIPediatricAsym:cohort-1 --output-spaces MNIPediatricAsym:cohort-1:res-2 T1w MNI152NLin6Asym:res-2 MNI152NLin2009cAsym fsaverage --use-aroma --fs-license-file /RED/license.txt --write-graph --fd-spike-threshold 0.5 --dvars-spike-threshold 0.5 --notrack --resource-monitor --skip-bids-validation\n",
      "Submitted batch job 1029572\n",
      "\n",
      "\n"
     ]
    }
   ],
   "source": [
    "import os, subprocess\n",
    "\n",
    "# setup template flow environment\n",
    "my_env = os.environ.copy()\n",
    "my_env[\"SINGULARITYENV_TEMPLATEFLOW_HOME\"] = \"/templateflow\"\n",
    "\n",
    "# directories\n",
    "bids_dir = '/imaging/su01/RED/bids'\n",
    "slurm_output_dir = '/imaging/su01/RED/files'\n",
    "#os.mkdir(slurm_output_dir)\n",
    "\n",
    "# set range of BIDS_ID numbers to be processed\n",
    "for n in range(13, 14):\n",
    "    p = subprocess.run(\" \".join([\"sbatch\", \"--mincpus=6\", \"--time=48:00:00\", #sbatch cmd\n",
    "                         \"--job-name=fmriprep\", \n",
    "                         \"--output\", slurm_output_dir + \"/sub-%03d.out\" %(n),\n",
    "                         \"singularity\", \"exec\", \"-C\", #singularity call\n",
    "                         \"-B\", \"/imaging/su01/RED:/RED\", # freesurfer license location\n",
    "                         \"-B\", bids_dir + \":/bids\", # bids directory\n",
    "                         \"-B\", \"/home/su01/.cache/templateflow:/templateflow\", # these might need to be set to your home\n",
    "                         \"-B\", \"/home/su01/.cache/fmriprep:/home/fmriprep\", # these might need to be set to your home\n",
    "                         \"-B\", \"/tmp:/tmp\",\n",
    "                         \"/imaging/local/software/singularity_images/fmriprep/fmriprep-1.5.0.simg\", # singularity image\n",
    "                         \"fmriprep\", # run fmriprep\n",
    "                         \"/bids\", # bids directory\n",
    "                         \"/bids/derivatives/fmriprep-1.5.0\", # fmriprep directory\n",
    "                         \"participant\", \"--participant_label\", '%03d' %(n), # participant info\n",
    "                         \"-v\", \"-w\", \"/bids/derivatives/fmriprepwork-1.5.0\", # wording directory\n",
    "                         \"-t\", \"task\", #to get just the task bold data and not resting state\n",
    "                         \"--skull-strip-template\", \"MNIPediatricAsym:cohort-1\", # child skull-strip template\n",
    "                         \"--output-spaces\", \"MNIPediatricAsym:cohort-1:res-2\", \"T1w\", # child template\n",
    "                         \"MNI152NLin6Asym:res-2\", \"MNI152NLin2009cAsym\", # For ICA-AROMA & carpet plot\n",
    "                         \"fsaverage\", # For freesurfer BBR and surface-based BOLD\n",
    "                         \"--use-aroma\", # ICA-AROMA denoising output\n",
    "                         \"--fs-license-file\", \"/RED/license.txt\", # freesurfer license\n",
    "                         \"--write-graph\", #tells you nipype pipeline that has been used\n",
    "                         \"--fd-spike-threshold\", \"0.5\", \"--dvars-spike-threshold\", \"0.5\", #flag threshold for high movement - check\n",
    "                         \"--notrack\", \"--resource-monitor\",\n",
    "                         \"--skip-bids-validation\"]), # skip this for cluster jobs as it tries to go online\n",
    "                        shell=True, stdout=subprocess.PIPE, stderr=subprocess.PIPE, env=my_env)\n",
    "    print(p.args)\n",
    "    print(p.stdout.decode())\n",
    "    print(p.stderr.decode())"
   ]
  },
  {
   "cell_type": "code",
   "execution_count": 38,
   "metadata": {},
   "outputs": [
    {
     "name": "stdout",
     "output_type": "stream",
     "text": [
      "sbatch --mincpus=6 --time=48:00:00 --cleanenv --job-name=fmriprep --output /imaging/su01/RED/bids/files/sub-012.out singularity exec -C -B /imaging/su01/RED:/RED -B /imaging/su01/RED/bids:/bids -B /home/su01/.cache/templateflow:/templateflow -B /home/su01/.cache/fmriprep:/home/fmriprep -B /tmp:/tmp /imaging/local/software/singularity_images/fmriprep/fmriprep-1.5.0.simg fmriprep /bids /bids/derivatives/fmriprep-1.5.0 participant --participant_label 012 -v -w /bids/derivatives/fmriprepwork-1.5.0 -t task --skull-strip-template MNIPediatricAsym:cohort-1 --output-spaces MNIPediatricAsym:cohort-1:res-2 T1w MNI152NLin6Asym:res-2 MNI152NLin2009cAsym fsaverage --use-aroma --fs-license-file /RED/license.txt --write-graph --fd-spike-threshold 0.5 --dvars-spike-threshold 0.5 --notrack --resource-monitor --skip-bids-validation\n",
      "\n",
      "sbatch: unrecognized option '--cleanenv'\n",
      "Try \"sbatch --help\" for more information\n",
      "\n"
     ]
    }
   ],
   "source": [
    "import os, subprocess\n",
    "\n",
    "# setup template flow environment\n",
    "my_env = os.environ.copy()\n",
    "my_env[\"SINGULARITYENV_TEMPLATEFLOW_HOME\"] = \"/templateflow\"\n",
    "\n",
    "# directories\n",
    "bids_dir = '/imaging/su01/RED/bids'\n",
    "slurm_output_dir = '/imaging/su01/RED/bids/files'\n",
    "#os.mkdir(slurm_output_dir)\n",
    "\n",
    "# set range of BIDS_ID numbers to be processed\n",
    "for n in range(12, 13):\n",
    "    p = subprocess.run(\" \".join([\"sbatch\", \"--mincpus=6\", \"--time=48:00:00\", #sbatch cmd\n",
    "                         \"--cleanenv\",\n",
    "                         \"--job-name=fmriprep\", \n",
    "                         \"--output\", slurm_output_dir + \"/sub-%03d.out\" %(n),\n",
    "                         \"singularity\", \"exec\", \"-C\", #singularity call\n",
    "                         \"-B\", \"/imaging/su01/RED:/RED\", # freesurfer license location\n",
    "                         \"-B\", bids_dir + \":/bids\", # bids directory\n",
    "                         \"-B\", \"/home/su01/.cache/templateflow:/templateflow\", # these might need to be set to your home\n",
    "                         \"-B\", \"/home/su01/.cache/fmriprep:/home/fmriprep\", # these might need to be set to your home\n",
    "                         \"-B\", \"/tmp:/tmp\",\n",
    "                         \"/imaging/local/software/singularity_images/fmriprep/fmriprep-1.5.0.simg\", # singularity image\n",
    "                         \"fmriprep\", # run fmriprep\n",
    "                         \"/bids\", # bids directory\n",
    "                         \"/bids/derivatives/fmriprep-1.5.0\", # fmriprep directory\n",
    "                         \"participant\", \"--participant_label\", '%03d' %(n), # participant info\n",
    "                         \"-v\", \"-w\", \"/bids/derivatives/fmriprepwork-1.5.0\", # wording directory\n",
    "                         \"-t\", \"task\", #to get just the task bold data and not resting state\n",
    "                         \"--skull-strip-template\", \"MNIPediatricAsym:cohort-1\", # child skull-strip template\n",
    "                         \"--output-spaces\", \"MNIPediatricAsym:cohort-1:res-2\", \"T1w\", # child template\n",
    "                         \"MNI152NLin6Asym:res-2\", \"MNI152NLin2009cAsym\", # For ICA-AROMA & carpet plot\n",
    "                         \"fsaverage\", # For freesurfer BBR and surface-based BOLD\n",
    "                         \"--use-aroma\", # ICA-AROMA denoising output\n",
    "                         \"--fs-license-file\", \"/RED/license.txt\", # freesurfer license\n",
    "                         \"--write-graph\", #tells you nipype pipeline that has been used\n",
    "                         \"--fd-spike-threshold\", \"0.5\", \"--dvars-spike-threshold\", \"0.5\", #flag threshold for high movement - check\n",
    "                         \"--notrack\", \"--resource-monitor\",\n",
    "                         \"--skip-bids-validation\"]), # skip this for cluster jobs as it tries to go online\n",
    "                        shell=True, stdout=subprocess.PIPE, stderr=subprocess.PIPE, env=my_env)\n",
    "    print(p.args)\n",
    "    print(p.stdout.decode())\n",
    "    print(p.stderr.decode())"
   ]
  },
  {
   "cell_type": "markdown",
   "metadata": {},
   "source": [
    "## MRIQC - All CALM"
   ]
  },
  {
   "cell_type": "code",
   "execution_count": null,
   "metadata": {
    "collapsed": true,
    "jupyter": {
     "outputs_hidden": true
    }
   },
   "outputs": [],
   "source": [
    "# Run participant-level mriqc\n",
    "import subprocess\n",
    "\n",
    "# directories\n",
    "bids_dir = '/path/to/bids'\n",
    "slurm_output_dir = '/path/to/cluster/log/files'\n",
    "os.mkdir(slurm_output_dir)\n",
    "\n",
    "# set range of BIDS_ID numbers to be processed\n",
    "for i in range(1, 100):\n",
    "    p = subprocess.Popen((\"sbatch\", \"--mincpus=1\", \"--job-name=mriqc\", #sbatch cmd\n",
    "                          \"--output\", slurm_output_dir + \"/sub-%03d.out\" %(i), \n",
    "                          \"singularity\", \"run\", \"-C\", \n",
    "                          \"-B\", bids_dir + \":/bids\",\n",
    "                          \"/imaging/local/software/singularity_images/mriqc/mriqc-0.14.2.simg\",\n",
    "                          \"/bids\", \"/bids/derivatives/mriqc\", #dirs\n",
    "                          \"participant\", \"--participant-label\", \"%03d\" %(i),\n",
    "                          \"--fd_thres\", \"0.5\", \n",
    "                          \"--verbose-reports\", \"--no-sub\", #mriqc options\n",
    "                          \"-v\", \"-w\", \"/bids/derivatives/mriqcwork\"),\n",
    "                        shell=False, stdout=subprocess.PIPE, stderr=subprocess.PIPE)"
   ]
  },
  {
   "cell_type": "code",
   "execution_count": null,
   "metadata": {
    "collapsed": true,
    "jupyter": {
     "outputs_hidden": true
    }
   },
   "outputs": [],
   "source": [
    "# Run group-level mriqc\n",
    "import subprocess\n",
    "\n",
    "p = subprocess.Popen((\"sbatch\", \"--mem-per-cpu=64gb\", \"--job-name=mriqc\", #sbatch cmd\n",
    "                      \"--output\", \"/imaging/jj02/CALM/slurm/mriqc/group.out\", \n",
    "                      \"singularity\", \"run\", \"-C\", \n",
    "                      \"-B\", bids_dir + \":/bids\",\n",
    "                      \"/imaging/local/software/singularity_images/mriqc/mriqc-0.14.2.simg\",\n",
    "                      \"/bids\", \"/bids/derivatives/mriqc\", #dirs\n",
    "                      \"group\", \n",
    "                      \"--fd_thres\", \"0.5\",\n",
    "                      \"--verbose-reports\", \"--no-sub\", #mriqc options\n",
    "                      \"-v\", \"-w\", \"/bids/derivatives/mriqcwork\"),\n",
    "                    shell=False, stdout=subprocess.PIPE, stderr=subprocess.PIPE)"
   ]
  },
  {
   "cell_type": "code",
   "execution_count": null,
   "metadata": {
    "collapsed": true,
    "jupyter": {
     "outputs_hidden": true
    }
   },
   "outputs": [],
   "source": [
    "# Run MRIQC classifier\n",
    "!singularity exec -B /path/to/BIDS:/bids /imaging/local/software/singularity_images/mriqc/mriqc-0.14.2.simg \\\n",
    "        mriqc_clf --verbose --load-classifier -X /bids/derivatives/mriqc/group_T1w.tsv"
   ]
  }
 ],
 "metadata": {
  "kernelspec": {
   "display_name": "Python 3",
   "language": "python",
   "name": "python3"
  },
  "language_info": {
   "codemirror_mode": {
    "name": "ipython",
    "version": 3
   },
   "file_extension": ".py",
   "mimetype": "text/x-python",
   "name": "python",
   "nbconvert_exporter": "python",
   "pygments_lexer": "ipython3",
   "version": "3.7.3"
  }
 },
 "nbformat": 4,
 "nbformat_minor": 4
}
