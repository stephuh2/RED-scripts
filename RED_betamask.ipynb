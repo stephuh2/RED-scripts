{
 "cells": [
  {
   "cell_type": "markdown",
   "metadata": {
    "pycharm": {
     "name": "#%% md\n"
    }
   },
   "source": [
    "# Get Masked Betas for each participant\n",
    "\n",
    "First, imports and paths:"
   ]
  },
  {
   "cell_type": "code",
   "execution_count": null,
   "metadata": {
    "collapsed": true,
    "pycharm": {
     "name": "#%%\n"
    }
   },
   "outputs": [],
   "source": [
    "# Imports and setup paths\n",
    "import nilearn\n",
    "from os.path import join\n",
    "from os import listdir\n",
    "import numpy as np\n",
    "\n",
    "steph_dir = '/imaging/astle/users/su01/RED'\n",
    "perm_dir = join(steph_dir, '3 Permutations_SnPM/Outputs/Go/1 Sad vs Happy')\n",
    "group_mask_file= join(perm_dir, 'SadvsHappy_neg_SnPM_filtered.nii')"
   ]
  },
  {
   "cell_type": "markdown",
   "metadata": {},
   "source": [
    "read in the .nii file from the group level as data\n",
    "\n",
    "Reading in the data gives us a numpy array, which is much more flexible than niilearns own formats\n",
    "\n",
    "This is a 3D array representing voxels, nan values represent no significance, anything not a nan is a significant beta\n"
   ]
  },
  {
   "cell_type": "code",
   "execution_count": null,
   "metadata": {
    "pycharm": {
     "name": "#%%\n"
    }
   },
   "outputs": [],
   "source": [
    "group_mask = nilearn.image.get_data(group_mask_file)\n"
   ]
  },
  {
   "cell_type": "markdown",
   "metadata": {},
   "source": [
    " we now convert this image of NaN's and numbers into a boolean array, which we can later use as an index\n",
    " Numpy allows boolean indexing, so we can just use our mask as an array to blank out other files\n",
    " See: https://numpy.org/devdocs/reference/arrays.indexing.html#boolean-array-indexing\n",
    "\n",
    " we use numpy is nan, which returns True if a number is NaN -- we want to reverse this, so we put the '~' preceding\n"
   ]
  },
  {
   "cell_type": "code",
   "execution_count": null,
   "metadata": {
    "pycharm": {
     "name": "#%%\n"
    }
   },
   "outputs": [],
   "source": [
    "group_boolean_mask = ~np.isnan(group_mask) # get a mask of true and false for if that voxel was significant"
   ]
  },
  {
   "cell_type": "markdown",
   "metadata": {
    "pycharm": {
     "name": "#%% md\n"
    }
   },
   "source": [
    "now we want to loop through the lower level files and get a beta value for each participant using this mask\n",
    "\n",
    "First, set up paths to the 1st level directories and contrast names.\n",
    "\n",
    "Then make a list of all the subject folders"
   ]
  },
  {
   "cell_type": "code",
   "execution_count": null,
   "metadata": {
    "pycharm": {
     "name": "#%%\n"
    }
   },
   "outputs": [],
   "source": [
    "first_level_directory = join(steph_dir, '1stlevel_output_go', '1stLevel')\n",
    "cont_name = 'con_0004.nii' # make sure this matches the GLM contrast ie. 'Happy Go > Sad Go'\n",
    "sublist = listdir(first_level_directory) # list all directories in this folder"
   ]
  },
  {
   "cell_type": "markdown",
   "metadata": {},
   "source": [
    "Now loop through the subject folders using enumerate\n",
    "\n",
    "We then mask these lower level statsitics and can use them to get a summary stat for each child"
   ]
  },
  {
   "cell_type": "code",
   "execution_count": null,
   "metadata": {
    "pycharm": {
     "name": "#%%\n"
    }
   },
   "outputs": [],
   "source": [
    "beta_vals = [] # our beta value list holder\n",
    "for i, sub_dir in enumerate(sublist):\n",
    "    this_beta = nilearn.image.get_data(join(first_level_directory, sub_dir, cont_name))# read in the betas from this participant, again as a numpy array\n",
    "    this_masked_vals = this_beta[group_boolean_mask] # mask them using the boolean mask\n",
    "    this_masked_vals = np.abs(this_masked_vals) # take absolute values (for ease)\n",
    "    this_beta_stat = np.mean(this_masked_vals) # take sum (but you can use average - np.mean(), peak np.max() or whatever function you'd like)\n",
    "    beta_vals.append((sub_dir, this_beta_stat)) # append this participants value along with their ID\n"
   ]
  },
  {
   "cell_type": "markdown",
   "metadata": {
    "pycharm": {
     "name": "#%% md\n"
    }
   },
   "source": [
    "now we have the summed/averaged (depending) activity for each participant, masked by the group level contrast\n",
    "\n",
    "If significant, we can also go back and get the masked values only and look at which voxels most predict the covariates\n",
    "but for now these are pretty good as is"
   ]
  },
  {
   "cell_type": "code",
   "execution_count": null,
   "metadata": {
    "pycharm": {
     "name": "#%%\n"
    }
   },
   "outputs": [],
   "source": [
    "print(beta_vals)"
   ]
  },
  {
   "cell_type": "markdown",
   "metadata": {},
   "source": [
    "## Final analysis steps\n",
    "Can look at any of the covariates\n",
    "\n",
    "May do this on local computer so will need to change some directories and paths if that is the case"
   ]
  },
  {
   "cell_type": "code",
   "execution_count": null,
   "metadata": {},
   "outputs": [],
   "source": [
    "#Read into pandas\n",
    "b_df = pd.DataFrame(np.array(beta_vals), columns=['sub_id', 'summed_betas'])\n",
    "b_df.summed_betas = b_df.summed_betas.astype('float')\n",
    "# load BIDS2RED and merge to get RED ids for data\n",
    "bid2red = pd.read_excel('/imaging/astle/users/ai05/RED/RED_fmri_finalids.xlsx')\n",
    "main_df = pd.merge(b_df, bid2red, on='sub_id')\n",
    "\n",
    "#load in all metadata\n",
    "META_PATH = join('/imaging', 'astle','users','ai05', 'RED', 'RED_MEG', 'worms', 'Combined3.csv')\n",
    "meta_df = pd.read_csv(META_PATH)\n",
    "meta_df.rename(columns={'Alex_ID': 'red_id'},inplace=True)\n",
    "main_df['red_id'] = main_df['red_id'].astype(str)\n",
    "with_data = pd.merge(main_df, meta_df, on='red_id')\n",
    "\n",
    "\n",
    "#%% Now do some analysis -- this can be whatever covariate you want really\n",
    "plt.close('all')\n",
    "sns.regplot(y='summed_betas', x='WASI_Mat', data=with_data)\n",
    "plt.show()"
   ]
  }
 ],
 "metadata": {
  "kernelspec": {
   "display_name": "Python 3",
   "language": "python",
   "name": "python3"
  },
  "language_info": {
   "codemirror_mode": {
    "name": "ipython",
    "version": 3
   },
   "file_extension": ".py",
   "mimetype": "text/x-python",
   "name": "python",
   "nbconvert_exporter": "python",
   "pygments_lexer": "ipython3",
   "version": "3.8.5"
  }
 },
 "nbformat": 4,
 "nbformat_minor": 1
}
