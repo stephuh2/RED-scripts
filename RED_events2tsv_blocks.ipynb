{
 "cells": [
  {
   "cell_type": "markdown",
   "metadata": {
    "pycharm": {
     "name": "#%% md\n"
    }
   },
   "source": [
    "### RED Events 2 TSV: Aims of this script\n",
    "\n",
    "The aims of this script are to create events files that are compatible with bids for the RED Go/NoGo task\n",
    "\n",
    "What we need are from the events.txt files (trials.txt have much more info but this one has the onset times we need to specify)\n",
    "\n",
    "Required:\n",
    "- onset\n",
    "- duration\n",
    "\n",
    "What we should also specify\n",
    "- condition (how we have it named in the actual file)\n",
    "- trial_type (go/nogo)\n",
    "- emotion\n",
    "\n",
    "Steps are as such:\n",
    "- Define functions to set condition names, trial types, and emotions\n",
    "- Read in events files for each subject and identify corresponding bids_id (see RED_bids_cbu_ids.csv for matching)\n",
    "- In the events column, identify where blocks begin\n",
    "- Extract first MRI pulse: this will be the first\n",
    "- Identify first stim onset per block\n",
    "- Subtract first stim onset by MRI pulse and divide by 1000 to convert to sec\n",
    "- Write to tsv file into directory"
   ]
  },
  {
   "cell_type": "code",
   "execution_count": 1,
   "metadata": {
    "collapsed": false,
    "jupyter": {
     "outputs_hidden": false
    },
    "pycharm": {
     "name": "#%%\n"
    }
   },
   "outputs": [],
   "source": [
    "# import modules\n",
    "import os\n",
    "import re\n",
    "import csv, operator\n",
    "import pandas as pd\n",
    "import scipy as sio\n",
    "import numpy as np\n",
    "from decimal import *\n",
    "from enum import Enum"
   ]
  },
  {
   "cell_type": "code",
   "execution_count": 3,
   "metadata": {
    "collapsed": false,
    "jupyter": {
     "outputs_hidden": false
    },
    "pycharm": {
     "name": "#%%\n"
    }
   },
   "outputs": [],
   "source": [
    "# First identify directories\n",
    "files_dir ='/imaging/su01/RED/GNG Task Data'\n",
    "output_dir = '/imaging/su01/RED/bids'"
   ]
  },
  {
   "cell_type": "code",
   "execution_count": 4,
   "metadata": {
    "collapsed": false,
    "jupyter": {
     "outputs_hidden": false
    },
    "pycharm": {
     "name": "#%%\n"
    }
   },
   "outputs": [],
   "source": [
    "# Identify subject list (red_files correspond to bids_ids order)\n",
    "red_events = [\"99003_events.txt\", \"99004_events.txt\",  \"99005_events.txt\", \"99007_events.txt\",\\\n",
    "           \"99009_events.txt\", \"99010_events.txt\", \"99011_events.txt\", \"99012_events.txt\",\\\n",
    "           \"99013_events.txt\", \"99014_events.txt\", \"99016_events.txt\", \"99018_events.txt\",\\\n",
    "           \"99019_events.txt\", \"99020_events.txt\", \"99021_events.txt\", \"99023_events.txt\",\\\n",
    "           \"99025_events.txt\", \"99026_events.txt\", \"99027_events.txt\", \"99028_events.txt\",\\\n",
    "           \"99030_events.txt\", \"99031_events.txt\", \"99034_events.txt\", \"99035_events.txt\",\\\n",
    "           \"99037_events.txt\", \"99038_events.txt\", \"99040_events.txt\", \"99044_events.txt\",\\\n",
    "           \"99047_events.txt\", \"99048_events.txt\", \"99051_events.txt\", \"99053_events.txt\",\\\n",
    "           \"99057_events.txt\", \"99058_events.txt\", \"99059_events.txt\", \"99063_events.txt\",\\\n",
    "           \"99064_events.txt\", \"99068_events.txt\", \"99070_events.txt\", \"99071_events.txt\",\\\n",
    "           \"99072_events.txt\", \"99073_events.txt\", \"99076_events.txt\", \"99078_events.txt\",\\\n",
    "           \"99080_events.txt\", \"99083_events.txt\", \"99086_events.txt\", \"99087_events.txt\",\\\n",
    "           \"99089_events.txt\", \"99090_events.txt\", \"99091_events.txt\", \"99092_events.txt\",\\\n",
    "           \"99094_events.txt\", \"99096_events.txt\", \"99097_events.txt\", \"99099_events.txt\",\\\n",
    "           \"99101_events.txt\", \"99102_events.txt\", \"99103_events.txt\", \"99106_events.txt\",\\\n",
    "           \"99107_events.txt\", \"99111_events.txt\", \"99112_events.txt\", \"99114_events.txt\",\\\n",
    "           \"99115_events.txt\", \"99118_events.txt\", \"99119_events.txt\", \"99121_events.txt\",\\\n",
    "           \"99124_events.txt\", \"99125_events.txt\", \"99129_events.txt\", \"99134_events.txt\",\\\n",
    "           \"99141_events.txt\", \"99142_events.txt\", \"99139_events.txt\"]\n",
    "\n",
    "bids_ids = [\"sub-002\", \"sub-003\", \"sub-001\", \"sub-004\", \"sub-009\", \"sub-010\", \"sub-006\", \"sub-016\",\\\n",
    "            \"sub-005\", \"sub-008\", \"sub-012\", \"sub-011\", \"sub-007\", \"sub-014\", \"sub-013\", \"sub-019\",\\\n",
    "            \"sub-017\", \"sub-015\", \"sub-021\", \"sub-020\", \"sub-022\", \"sub-018\", \"sub-023\", \"sub-026\",\\\n",
    "            \"sub-028\", \"sub-025\", \"sub-027\", \"sub-042\", \"sub-024\", \"sub-050\", \"sub-051\", \"sub-068\",\\\n",
    "            \"sub-032\", \"sub-031\", \"sub-030\", \"sub-074\", \"sub-037\", \"sub-029\", \"sub-035\", \"sub-036\",\\\n",
    "            \"sub-040\", \"sub-041\", \"sub-034\", \"sub-038\", \"sub-039\", \"sub-047\", \"sub-043\", \"sub-046\",\\\n",
    "            \"sub-044\", \"sub-048\", \"sub-045\", \"sub-049\", \"sub-063\", \"sub-069\", \"sub-056\", \"sub-054\",\\\n",
    "            \"sub-058\", \"sub-052\", \"sub-057\", \"sub-053\", \"sub-070\", \"sub-064\", \"sub-055\", \"sub-062\",\\\n",
    "            \"sub-065\", \"sub-061\", \"sub-073\", \"sub-066\", \"sub-059\", \"sub-060\", \"sub-072\", \"sub-075\",\\\n",
    "            \"sub-077\", \"sub-076\", \"sub-078\"]"
   ]
  },
  {
   "cell_type": "code",
   "execution_count": 5,
   "metadata": {
    "collapsed": false,
    "jupyter": {
     "outputs_hidden": false
    },
    "pycharm": {
     "name": "#%%\n"
    }
   },
   "outputs": [],
   "source": [
    "# Define condition names\n",
    "# Identify whether the block string variable includes the conditions ('s_n', 's_g', etc.)\n",
    "# Then return the condition name only (excluding 'block onset 0..etc'\n",
    "def findCondStr(blockStr):\n",
    "    if re.search('s_n', blockStr):\n",
    "        return 's_n'\n",
    "    elif re.search('s_g', blockStr):\n",
    "        return 's_g'\n",
    "    elif re.search('n_n', blockStr):\n",
    "        return 'n_n'\n",
    "    elif re.search('n_g', blockStr):\n",
    "        return 'n_g'\n",
    "    elif re.search('h_n', blockStr):\n",
    "        return 'h_n'\n",
    "    elif re.search('h_g', blockStr):\n",
    "        return 'h_g'\n",
    "    elif re.search('c_n', blockStr):\n",
    "        return 'c_n'\n",
    "    elif re.search('c_g', blockStr):\n",
    "        return 'c_g'\n",
    "    else:\n",
    "        return 'Invalid:' + blockStr"
   ]
  },
  {
   "cell_type": "code",
   "execution_count": 6,
   "metadata": {
    "collapsed": false,
    "jupyter": {
     "outputs_hidden": false
    },
    "pycharm": {
     "name": "#%%\n"
    }
   },
   "outputs": [],
   "source": [
    "# Define the rest of the columns and have function to combine all of these\n",
    "# The input variables will be resolved in the main code below\n",
    "def addSummaryRecord(summary, condition, onset):\n",
    "    # for the trial_type: go vs nogo\n",
    "    if condition[-1] == 'n':  # if the condition str ends with 'n' this will record 'nogo' in variable g_or_ng\n",
    "        g_or_ng = 'nogo'\n",
    "    else:\n",
    "        g_or_ng = 'go'\n",
    "\n",
    "    # for the emotion type\n",
    "    if condition[0] == 's':  # if the condition str begins with certain letter, that will determine emotion\n",
    "        emotion = 'sad'\n",
    "    elif condition[0] == 'n':\n",
    "        emotion = 'neutral'\n",
    "    elif condition[0] == 'h':\n",
    "        emotion = 'happy'\n",
    "    elif condition[0] == 'c':\n",
    "        emotion = 'control'\n",
    "    else:\n",
    "        emotion = 'invalid'\n",
    "\n",
    "    # put together this list (duration is set for 60s)\n",
    "    summary.append([condition, onset, 60, g_or_ng, emotion])\n",
    "    return"
   ]
  },
  {
   "cell_type": "code",
   "execution_count": 8,
   "metadata": {
    "pycharm": {
     "name": "#%%\n"
    }
   },
   "outputs": [],
   "source": [
    "if __name__ == '__main__':\n",
    "    os.chdir(files_dir)\n",
    "\n",
    "    # for event in red_events:\n",
    "    for i in range(0, len(red_events)):\n",
    "        event = red_events[i]\n",
    "        data = pd.read_table(event)\n",
    "        block_start = mri_start = False\n",
    "        summary = list()\n",
    "\n",
    "        for index, row in data.iterrows():\n",
    "            if not block_start:\n",
    "                if not re.search('block', row['event']):\n",
    "                    continue\n",
    "                else:\n",
    "                    mystr = findCondStr(row['event'])\n",
    "                    block_start = True\n",
    "            else:\n",
    "                if not mri_start:\n",
    "                    # look for MRI pulse\n",
    "                    if not re.search(\"MRI pulse\", row['event']):\n",
    "                        continue\n",
    "                    else:\n",
    "                        mri_start = True\n",
    "                        mri_pulse = float(row['time'])\n",
    "                else:\n",
    "                    # look for stim onset\n",
    "                    if not re.search(\"stim onset\", row['event']):\n",
    "                        continue\n",
    "                    else:\n",
    "                        stim_onset = float(row['time'])\n",
    "                        block_start = False\n",
    "                        onsetTime = (stim_onset - mri_pulse) / 1000\n",
    "                        addSummaryRecord(summary, mystr, onsetTime)\n",
    "\n",
    "        # now create dataframe of all the variables\n",
    "        df = pd.DataFrame(summary, columns=['conditions', 'onset', 'duration', 'trial_type', 'emotion'])\n",
    "        #print(df)\n",
    "        \n",
    "        # save dataframe as tsv into respective output directory folder\n",
    "        # set name of file with output_dir and right path\n",
    "        tsvname = (output_dir + '/' + bids_ids[i] + '/' + 'func/' + bids_ids[i] + '_events.tsv')\n",
    "        with open(tsvname, 'w') as tsvfile:\n",
    "            tsvfile.write(df.to_csv(sep=\"\\t\", index=False))  # without row index\n",
    "\n",
    "\n",
    "\n"
   ]
  },
  {
   "cell_type": "code",
   "execution_count": null,
   "outputs": [],
   "source": [],
   "metadata": {
    "collapsed": false,
    "pycharm": {
     "name": "#%%\n"
    }
   }
  },
  {
   "cell_type": "code",
   "execution_count": null,
   "metadata": {},
   "outputs": [],
   "source": []
  }
 ],
 "metadata": {
  "kernelspec": {
   "display_name": "Python 3",
   "language": "python",
   "name": "python3"
  },
  "language_info": {
   "codemirror_mode": {
    "name": "ipython",
    "version": 3
   },
   "file_extension": ".py",
   "mimetype": "text/x-python",
   "name": "python",
   "nbconvert_exporter": "python",
   "pygments_lexer": "ipython3",
   "version": "3.7.3"
  }
 },
 "nbformat": 4,
 "nbformat_minor": 4
}