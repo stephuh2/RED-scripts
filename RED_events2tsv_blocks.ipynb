{
 "cells": [
  {
   "cell_type": "markdown",
   "metadata": {
    "collapsed": true,
    "pycharm": {
     "name": "#%% md\n"
    }
   },
   "source": [
    "### RED Events 2 TSV: Aims of this script\n",
    "\n",
    "The aims of this script are to create events files that are compatible with bids for the RED Go/NoGo task\n",
    "\n",
    "What we need are from the events.txt files (trials.txt have much more info but this one has the onset times we need to specify)\n",
    "\n",
    "Required:\n",
    "- onset\n",
    "- duration\n",
    "\n",
    "What we should also specify\n",
    "- condition (how we have it named in the actual file)\n",
    "- trial_type (go/nogo)\n",
    "- emotion\n",
    "\n",
    "Steps are as such:\n",
    "- Define functions to set condition names, trial types, and emotions\n",
    "- Read in events files for each subject and identify corresponding bids_id (see RED_bids_cbu_ids.csv for matching)\n",
    "- In the events column, identify where blocks begin\n",
    "- Extract first MRI pulse: this will be the first\n",
    "- Identify first stim onset per block\n",
    "- Subtract first stim onset by MRI pulse and divide by 1000 to convert to sec\n",
    "- Write to tsv file into directory"
   ]
  },
  {
   "cell_type": "code",
   "execution_count": null,
   "outputs": [],
   "source": [
    "# import modules\n",
    "import os\n",
    "import re\n",
    "import csv, operator\n",
    "import pandas as pd\n",
    "import scipy as sio\n",
    "import numpy as np\n",
    "from decimal import *\n",
    "from enum import Enum"
   ],
   "metadata": {
    "collapsed": false,
    "pycharm": {
     "name": "#%%\n"
    }
   }
  },
  {
   "cell_type": "code",
   "execution_count": null,
   "outputs": [],
   "source": [
    "# First identify directories\n",
    "files_dir ='/imaging/su01/RED/GNG Task Data'\n",
    "output_dir = '/imaging/su01/RED/bids'"
   ],
   "metadata": {
    "collapsed": false,
    "pycharm": {
     "name": "#%%\n"
    }
   }
  },
  {
   "cell_type": "code",
   "execution_count": null,
   "outputs": [],
   "source": [
    "# Identify subject list (red_files correspond to bids_ids order)\n",
    "red_events = [\"99013_events.txt\"]\n",
    "red_files = [\"99013_trials.txt\"]\n",
    "bids_ids = [\"sub-005\"]"
   ],
   "metadata": {
    "collapsed": false,
    "pycharm": {
     "name": "#%%\n"
    }
   }
  },
  {
   "cell_type": "code",
   "execution_count": null,
   "outputs": [],
   "source": [
    "# Define condition names\n",
    "# Identify whether the block string variable includes the conditions ('s_n', 's_g', etc.)\n",
    "# Then return the condition name only (excluding 'block onset 0..etc'\n",
    "def findCondStr(blockStr):\n",
    "    if re.search('s_n', blockStr):\n",
    "        return 's_n'\n",
    "    elif re.search('s_g', blockStr):\n",
    "        return 's_g'\n",
    "    elif re.search('n_n', blockStr):\n",
    "        return 'n_n'\n",
    "    elif re.search('n_g', blockStr):\n",
    "        return 'n_g'\n",
    "    elif re.search('h_n', blockStr):\n",
    "        return 'h_n'\n",
    "    elif re.search('h_g', blockStr):\n",
    "        return 'h_g'\n",
    "    elif re.search('c_n', blockStr):\n",
    "        return 'c_n'\n",
    "    elif re.search('c_g', blockStr):\n",
    "        return 'c_g'\n",
    "    else:\n",
    "        return 'Invalid:' + blockStr"
   ],
   "metadata": {
    "collapsed": false,
    "pycharm": {
     "name": "#%%\n"
    }
   }
  },
  {
   "cell_type": "code",
   "execution_count": null,
   "outputs": [],
   "source": [
    "# Define the rest of the columns and have function to combine all of these\n",
    "# The input variables will be resolved in the main code below\n",
    "def addSummaryRecord(summary, condition, onset):\n",
    "    # for the trial_type: go vs nogo\n",
    "    if condition[-1] == 'n':  # if the condition str ends with 'n' this will record 'nogo' in variable g_or_ng\n",
    "        g_or_ng = 'nogo'\n",
    "    else:\n",
    "        g_or_ng = 'go'\n",
    "\n",
    "    # for the emotion type\n",
    "    if condition[0] == 's':  # if the condition str begins with certain letter, that will determine emotion\n",
    "        emotion = 'sad'\n",
    "    elif condition[0] == 'n':\n",
    "        emotion = 'neutral'\n",
    "    elif condition[0] == 'h':\n",
    "        emotion = 'happy'\n",
    "    elif condition[0] == 'c':\n",
    "        emotion = 'control'\n",
    "    else:\n",
    "        emotion = 'invalid'\n",
    "\n",
    "    # put together this list (duration is set for 60s)\n",
    "    summary.append([condition, onset, 60, g_or_ng, emotion])\n",
    "    return"
   ],
   "metadata": {
    "collapsed": false,
    "pycharm": {
     "name": "#%%\n"
    }
   }
  },
  {
   "cell_type": "code",
   "execution_count": null,
   "outputs": [],
   "source": [
    "if __name__ == '__main__':\n",
    "    os.chdir(files_dir)\n",
    "\n",
    "    # for event in red_events:\n",
    "    for i in range(0, len(red_events)):\n",
    "        event = red_events[i]\n",
    "        data = pd.read_table(event)\n",
    "        block_start = mri_start = False\n",
    "        summary = list()\n",
    "\n",
    "        for index, row in data.iterrows():\n",
    "            if not block_start:\n",
    "                if not re.search('block', row['event']):\n",
    "                    continue\n",
    "                else:\n",
    "                    mystr = findCondStr(row['event'])\n",
    "                    block_start = True\n",
    "            else:\n",
    "                if not mri_start:\n",
    "                    # look for MRI pulse\n",
    "                    if not re.search(\"MRI pulse\", row['event']):\n",
    "                        continue\n",
    "                    else:\n",
    "                        mri_start = True\n",
    "                        mri_pulse = float(row['time'])\n",
    "                else:\n",
    "                    # look for stim onset\n",
    "                    if not re.search(\"stim onset\", row['event']):\n",
    "                        continue\n",
    "                    else:\n",
    "                        stim_onset = float(row['time'])\n",
    "                        block_start = False\n",
    "                        elapsedTime = (stim_onset - mri_pulse) / 1000\n",
    "                        addSummaryRecord(summary, mystr, elapsedTime)\n",
    "\n",
    "        # now create dataframe of all the variables\n",
    "        df = pd.DataFrame(summary, columns=['conditions', 'onset', 'duration', 'trial_type', 'emotion'])\n",
    "        print(df)\n",
    "        # save dataframe as tsv into respective output directory folder\n",
    "        # set name of file\n",
    "\n",
    "        #tsvname = (output_dir + '/' + bids_ids[i] + '/' + 'func/' + bids_ids[i] + '_events.tsv')\n",
    "        with open(bids_ids[i] + '/' + 'func/' + bids_ids[i] + '_events.tsv', 'w') as tsvfile:\n",
    "            tsvfile.write(df.to_csv(sep=\"\\t\", index=False))  # without row index\n",
    "\n",
    "\n",
    "\n"
   ],
   "metadata": {
    "collapsed": false,
    "pycharm": {
     "name": "#%%\n"
    }
   }
  }
 ],
 "metadata": {
  "kernelspec": {
   "display_name": "Python 3",
   "language": "python",
   "name": "python3"
  },
  "language_info": {
   "codemirror_mode": {
    "name": "ipython",
    "version": 2
   },
   "file_extension": ".py",
   "mimetype": "text/x-python",
   "name": "python",
   "nbconvert_exporter": "python",
   "pygments_lexer": "ipython2",
   "version": "2.7.6"
  }
 },
 "nbformat": 4,
 "nbformat_minor": 0
}