{
 "cells": [
  {
   "cell_type": "markdown",
   "metadata": {},
   "source": [
    "This is to calculate the average framewise displacement for participants based on the confounds file generated from fmriprep\n",
    "\n",
    "Steps:\n",
    "- create functions to grab the framewise_displacement row from each file\n",
    "- then compute the average of that row (excluding NA)\n",
    "- write this to new CSV"
   ]
  },
  {
   "cell_type": "code",
   "execution_count": 1,
   "metadata": {},
   "outputs": [],
   "source": [
    "#import modules\n",
    "import os\n",
    "import re\n",
    "import csv, operator\n",
    "import pandas as pd"
   ]
  },
  {
   "cell_type": "code",
   "execution_count": 12,
   "metadata": {},
   "outputs": [],
   "source": [
    "#define average computation function\n",
    "def computeAvg(file, fdmap):\n",
    "    with open(file, 'r') as infile:\n",
    "        #reader = csv.DictReader(infile, delimiter='\\t', skipinitialspace=True)\n",
    "        reader = pd.read_table(infile)\n",
    "        reader['framewise_displacement'].fillna(0) #to replace NA with zero\n",
    "        count = 0\n",
    "        sum = 0.0\n",
    "        for row in reader:\n",
    "            val = row['framewise_displacement']\n",
    "            try:\n",
    "                f = float(val) #this is to discard NAs and not count them\n",
    "                sum += f\n",
    "                count += 1\n",
    "            except:\n",
    "                continue\n",
    "\n",
    "        fdmap[file] = sum / count if count  != 0 else 0"
   ]
  },
  {
   "cell_type": "code",
   "execution_count": 13,
   "metadata": {},
   "outputs": [],
   "source": [
    "#define file names (confouds tsv file to read)\n",
    "def calcavg(sdir, fdmap):\n",
    "    os.chdir(sdir)\n",
    "    files = os.listdir()\n",
    "    for file in files:\n",
    "        if re.search(\"task-task_desc-confounds_regressors.tsv\", file):\n",
    "            computeAvg(file, fdmap)"
   ]
  },
  {
   "cell_type": "code",
   "execution_count": 14,
   "metadata": {},
   "outputs": [],
   "source": [
    "#to get directories\n",
    "def explore(dir, fdmap):\n",
    "    os.chdir(dir)\n",
    "    subdirs = os.listdir()\n",
    "    for sdir in subdirs:\n",
    "        if os.path.isdir(sdir) and sdir == \"func\":\n",
    "            cwd = os.getcwd()\n",
    "            calcavg(sdir, fdmap)\n",
    "            os.chdir(cwd)"
   ]
  },
  {
   "cell_type": "code",
   "execution_count": 17,
   "metadata": {},
   "outputs": [
    {
     "data": {
      "text/plain": [
       "'/imaging/su01/RED/bids/derivatives/fmriprep-1.5.0/fmriprep/sub-053/func'"
      ]
     },
     "execution_count": 17,
     "metadata": {},
     "output_type": "execute_result"
    }
   ],
   "source": [
    "os.getcwd()"
   ]
  },
  {
   "cell_type": "code",
   "execution_count": 15,
   "metadata": {},
   "outputs": [],
   "source": [
    "#run code\n",
    "if __name__ == '__main__':\n",
    "\n",
    "    # you can set the os.environ['OUTPUT_FILE'] and os.environ['INPUT_PATH'] below or,\n",
    "    # outside from this app\n",
    "    os.environ['OUTPUT_FILE'] = os.getcwd() + '/' + 'result.tsv'\n",
    "    os.environ['INPUT_PATH']  = os.getcwd()\n",
    "    \n",
    "    fptr = open(os.environ['OUTPUT_FILE'], 'w')\n",
    "    framewise_displacements = dict() # initialize map\n",
    "    subdirs = os.listdir()\n",
    "    for sdir in subdirs:\n",
    "        if os.path.isdir(sdir):\n",
    "            cwd = os.getcwd()\n",
    "            explore(sdir,framewise_displacements)\n",
    "            os.chdir(cwd)\n",
    "            \n",
    "    #sort the file alphabetically by filename\n",
    "    fw_sorted_displacements = sorted(framewise_displacements.items())\n",
    "    \n",
    "    #write to csv file\n",
    "    fw_disp_dicts = [{'file': f, 'framewise displacement average': avg} for f,avg in fw_sorted_displacements]\n",
    "    names = ['file', 'framewise displacement average']\n",
    "    with open('RED_test_fdavg.csv', mode='wt') as avg_file:\n",
    "        csv_writer = csv.DictWriter(avg_file, delimiter=',', fieldnames=names, lineterminator='\\n')\n",
    "        csv_writer.writeheader()\n",
    "        for row in fw_disp_dicts:\n",
    "            csv_writer.writerow(row)\n"
   ]
  },
  {
   "cell_type": "code",
   "execution_count": 34,
   "metadata": {},
   "outputs": [],
   "source": [
    "## Don't need to run this but this is another option using numpy\n",
    "## Not as efficient as one above but we can adjust what we sort alphabetically by here\n",
    "## in operator.itemgetter(0) <- using indexing\n",
    "\n",
    "#sort rows alphabetically by file name just for ease of reading\n",
    "data = csv.reader(open('[file_from_above].csv'), delimiter=';')\n",
    "sortedlist = sorted(data, key=operator.itemgetter(0), reverse=False)\n",
    "\n",
    "import numpy as np\n",
    "np.savetxt(\"[newfile].csv\",\n",
    "            sortedlist,\n",
    "            delimiter=\", \",\n",
    "            fmt='% s')"
   ]
  }
 ],
 "metadata": {
  "kernelspec": {
   "display_name": "Python 3",
   "language": "python",
   "name": "python3"
  },
  "language_info": {
   "codemirror_mode": {
    "name": "ipython",
    "version": 3
   },
   "file_extension": ".py",
   "mimetype": "text/x-python",
   "name": "python",
   "nbconvert_exporter": "python",
   "pygments_lexer": "ipython3",
   "version": "3.7.3"
  }
 },
 "nbformat": 4,
 "nbformat_minor": 4
}
