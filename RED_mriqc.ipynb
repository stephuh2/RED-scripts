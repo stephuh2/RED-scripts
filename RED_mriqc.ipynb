{
 "cells": [
  {
   "cell_type": "markdown",
   "metadata": {},
   "source": [
    "## MRIQC - RED"
   ]
  },
  {
   "cell_type": "code",
   "execution_count": 2,
   "metadata": {},
   "outputs": [],
   "source": [
    "# Run participant-level mriqc\n",
    "import subprocess\n",
    "\n",
    "# directories\n",
    "bids_dir = '/imaging/su01/RED/bids'\n",
    "slurm_output_dir = '/imaging/su01/RED/files/mriqc'\n",
    "#os.mkdir(slurm_output_dir)\n",
    "\n",
    "# set range of BIDS_ID numbers to be processed\n",
    "for i in range(2, 81):\n",
    "    p = subprocess.Popen((\"sbatch\", \"--mincpus=1\", \"--job-name=mriqc\", #sbatch cmd\n",
    "                          \"--output\", slurm_output_dir + \"/sub-%03d.out\" %(i), \n",
    "                          \"singularity\", \"run\", \"-C\", \n",
    "                          \"-B\", bids_dir + \":/bids\",\n",
    "                          \"/imaging/local/software/singularity_images/mriqc/mriqc-0.14.2.simg\",\n",
    "                          \"/bids\", \"/bids/derivatives/mriqc\", #dirs\n",
    "                          \"participant\", \"--participant-label\", \"%03d\" %(i),\n",
    "                          \"--fd_thres\", \"0.5\", \n",
    "                          \"--verbose-reports\", \"--no-sub\", #mriqc options\n",
    "                          \"-v\", \"-w\", \"/bids/derivatives/mriqcwork\"),\n",
    "                        shell=False, stdout=subprocess.PIPE, stderr=subprocess.PIPE)"
   ]
  },
  {
   "cell_type": "code",
   "execution_count": 3,
   "metadata": {},
   "outputs": [],
   "source": [
    "# Run group-level mriqc\n",
    "import subprocess\n",
    "\n",
    "p = subprocess.Popen((\"sbatch\", \"--mem-per-cpu=64gb\", \"--job-name=mriqc\", #sbatch cmd\n",
    "                      \"--output\", \"/imaging/su01/RED/files/mriqc/red_group.out\", \n",
    "                      \"singularity\", \"run\", \"-C\", \n",
    "                      \"-B\", bids_dir + \":/bids\",\n",
    "                      \"/imaging/local/software/singularity_images/mriqc/mriqc-0.14.2.simg\",\n",
    "                      \"/bids\", \"/bids/derivatives/mriqc\", #dirs\n",
    "                      \"group\", \n",
    "                      \"--fd_thres\", \"0.5\",\n",
    "                      \"--verbose-reports\", \"--no-sub\", #mriqc options\n",
    "                      \"-v\", \"-w\", \"/bids/derivatives/mriqcwork\"),\n",
    "                    shell=False, stdout=subprocess.PIPE, stderr=subprocess.PIPE)"
   ]
  },
  {
   "cell_type": "code",
   "execution_count": null,
   "metadata": {},
   "outputs": [],
   "source": [
    "# Run MRIQC classifier\n",
    "#!singularity exec -B /path/to/BIDS:/bids /imaging/local/software/singularity_images/mriqc/mriqc-0.14.2.simg \\\n",
    "#        mriqc_clf --verbose --load-classifier -X /bids/derivatives/mriqc/group_T1w.tsv"
   ]
  }
 ],
 "metadata": {
  "kernelspec": {
   "display_name": "Python 3",
   "language": "python",
   "name": "python3"
  },
  "language_info": {
   "codemirror_mode": {
    "name": "ipython",
    "version": 3
   },
   "file_extension": ".py",
   "mimetype": "text/x-python",
   "name": "python",
   "nbconvert_exporter": "python",
   "pygments_lexer": "ipython3",
   "version": "3.7.3"
  }
 },
 "nbformat": 4,
 "nbformat_minor": 4
}
