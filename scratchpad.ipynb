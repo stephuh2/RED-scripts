{
 "cells": [
  {
   "cell_type": "markdown",
   "metadata": {
    "pycharm": {
     "name": "#%% md\n"
    }
   },
   "source": [
    "## AIMS\n",
    "The aims of this script are to create events files that are compatible with bids for the RED Go/NoGo task\n",
    "\n",
    "What we need are from the events.txt files (trials.txt have much more info but this one has the onset times we need to specify)\n",
    "\n",
    "Required:\n",
    "- onset\n",
    "- duration\n",
    "\n",
    "What we should also specify\n",
    "- condition (how we have it named in the actual file)\n",
    "- trial_type (go/nogo)\n",
    "- emotion"
   ]
  },
  {
   "cell_type": "code",
   "execution_count": 28,
   "metadata": {},
   "outputs": [],
   "source": [
    "#import modules\n",
    "import os\n",
    "import re\n",
    "import csv, operator\n",
    "import pandas as pd\n",
    "import scipy as sio\n",
    "import numpy as np"
   ]
  },
  {
   "cell_type": "code",
   "execution_count": 1,
   "metadata": {
    "pycharm": {
     "name": "#%%\n"
    }
   },
   "outputs": [],
   "source": [
    "# First identify directories\n",
    "files_dir ='/imaging/su01/RED/GNG Task Data'\n",
    "output_dir = '/imaging/su01/RED/bids'\n",
    "\n",
    "# Identify subject list (red_files correspond to bids_ids order)\n",
    "red_events = [\"99003_events.txt\", \"99004_events.txt\",  \"99005_events.txt\", \"99007_events.txt\",\n",
    "           \"99009_events.txt\", \"99010_events.txt\", \"99011_events.txt\", \"99012_events.txt\", \n",
    "           \"99013_events.txt\", \"99014_events.txt\", \"99016_events.txt\", \"99018_events.txt\", \n",
    "           \"99019_events.txt\", \"99020_events.txt\", \"99021_events.txt\", \"99023_events.txt\", \n",
    "           \"99025_events.txt\", \"99026_events.txt\", \"99027_events.txt\", \"99028_events.txt\", \n",
    "           \"99030_events.txt\", \"99031_events.txt\", \"99034_events.txt\", \"99035_events.txt\", \n",
    "           \"99037_events.txt\", \"99038_events.txt\", \"99040_events.txt\", \"99044_events.txt\", \n",
    "           \"99047_events.txt\", \"99048_events.txt\", \"99051_events.txt\", \"99053_events.txt\", \n",
    "           \"99057_events.txt\", \"99058_events.txt\", \"99059_events.txt\", \"99063_events.txt\", \n",
    "           \"99064_events.txt\", \"99068_events.txt\", \"99070_events.txt\", \"99071_events.txt\", \n",
    "           \"99072_events.txt\", \"99073_events.txt\", \"99076_events.txt\", \"99078_events.txt\", \n",
    "           \"99080_events.txt\", \"99083_events.txt\", \"99086_events.txt\", \"99087_events.txt\", \n",
    "           \"99089_events.txt\", \"99090_events.txt\", \"99091_events.txt\", \"99092_events.txt\", \n",
    "           \"99094_events.txt\", \"99096_events.txt\", \"99097_events.txt\", \"99099_events.txt\", \n",
    "           \"99101_events.txt\", \"99102_events.txt\", \"99103_events.txt\", \"99106_events.txt\", \n",
    "           \"99107_events.txt\", \"99111_events.txt\", \"99112_events.txt\", \"99114_events.txt\", \n",
    "           \"99115_events.txt\", \"99118_events.txt\", \"99119_events.txt\", \"99121_events.txt\", \n",
    "           \"99124_events.txt\", \"99125_events.txt\", \"99129_events.txt\", \"99134_events.txt\", \n",
    "           \"99141_events.txt\", \"99142_events.txt\", \"99139_events.txt\"]\n",
    "\n",
    "red_files = [\"99003_trials.txt\", \"99004_trials.txt\", \"99005_trials.txt\", \"99007_trials.txt\",\n",
    "           \"99009_trials.txt\", \"99010_trials.txt\", \"99011_trials.txt\", \"99012_trials.txt\", \n",
    "           \"99013_trials.txt\", \"99014_trials.txt\", \"99016_trials.txt\", \"99018_trials.txt\", \n",
    "           \"99019_trials.txt\", \"99020_trials.txt\", \"99021_trials.txt\", \"99023_trials.txt\", \n",
    "           \"99025_trials.txt\", \"99026_trials.txt\", \"99027_trials.txt\", \"99028_trials.txt\", \n",
    "           \"99030_trials.txt\", \"99031_trials.txt\", \"99034_trials.txt\", \"99035_trials.txt\", \n",
    "           \"99037_trials.txt\", \"99038_trials.txt\", \"99040_trials.txt\", \"99044_trials.txt\", \n",
    "           \"99047_trials.txt\", \"99048_trials.txt\", \"99051_trials.txt\", \"99053_trials.txt\", \n",
    "           \"99057_trials.txt\", \"99058_trials.txt\", \"99059_trials.txt\", \"99063_trials.txt\", \n",
    "           \"99064_trials.txt\", \"99068_trials.txt\", \"99070_trials.txt\", \"99071_trials.txt\", \n",
    "           \"99072_trials.txt\", \"99073_trials.txt\", \"99076_trials.txt\", \"99078_trials.txt\", \n",
    "           \"99080_trials.txt\", \"99083_trials.txt\", \"99086_trials.txt\", \"99087_trials.txt\", \n",
    "           \"99089_trials.txt\", \"99090_trials.txt\", \"99091_trials.txt\", \"99092_trials.txt\", \n",
    "           \"99094_trials.txt\", \"99096_trials.txt\", \"99097_trials.txt\", \"99099_trials.txt\", \n",
    "           \"99101_trials.txt\", \"99102_trials.txt\", \"99103_trials.txt\", \"99106_trials.txt\", \n",
    "           \"99107_trials.txt\", \"99111_trials.txt\", \"99112_trials.txt\", \"99114_trials.txt\", \n",
    "           \"99115_trials.txt\", \"99118_trials.txt\", \"99119_trials.txt\", \"99121_trials.txt\", \n",
    "           \"99124_trials.txt\", \"99125_trials.txt\", \"99129_trials.txt\", \"99134_trials.txt\", \n",
    "           \"99141_trials.txt\", \"99142_trials.txt\", \"99139_trials.txt\"]\n",
    "\n",
    "\n",
    "bids_ids = [\"sub-002\", \"sub-003\", \"sub-001\", \"sub-004\", \"sub-009\", \"sub-010\", \"sub-006\", \"sub-016\", \n",
    "            \"sub-005\", \"sub-008\", \"sub-012\", \"sub-011\", \"sub-007\", \"sub-014\", \"sub-013\", \"sub-019\",\n",
    "            \"sub-017\", \"sub-015\", \"sub-021\", \"sub-020\", \"sub-022\", \"sub-018\", \"sub-023\", \"sub-026\",\n",
    "            \"sub-028\", \"sub-025\", \"sub-027\", \"sub-042\", \"sub-024\", \"sub-050\", \"sub-051\", \"sub-068\",\n",
    "            \"sub-032\", \"sub-031\", \"sub-030\", \"sub-074\", \"sub-037\", \"sub-029\", \"sub-035\", \"sub-036\",\n",
    "            \"sub-040\", \"sub-041\", \"sub-034\", \"sub-038\", \"sub-039\", \"sub-047\", \"sub-043\", \"sub-046\",\n",
    "            \"sub-044\", \"sub-048\", \"sub-045\", \"sub-049\", \"sub-063\", \"sub-069\", \"sub-056\", \"sub-054\",\n",
    "            \"sub-058\", \"sub-052\", \"sub-057\", \"sub-053\", \"sub-070\", \"sub-064\", \"sub-055\", \"sub-062\",\n",
    "            \"sub-065\", \"sub-061\", \"sub-073\", \"sub-066\", \"sub-059\", \"sub-060\", \"sub-072\", \"sub-075\",\n",
    "            \"sub-077\", \"sub-076\", \"sub-078\"]"
   ]
  },
  {
   "cell_type": "code",
   "execution_count": 4,
   "metadata": {
    "pycharm": {
     "name": "#%%\n"
    }
   },
   "outputs": [
    {
     "data": {
      "text/plain": [
       "'/Users/stepheniuh/PycharmProjects/fmriprep_prc'"
      ]
     },
     "execution_count": 4,
     "metadata": {},
     "output_type": "execute_result"
    }
   ],
   "source": [
    "#check current working directory\n",
    "import os\n",
    "os.getcwd()"
   ]
  },
  {
   "cell_type": "code",
   "execution_count": 5,
   "metadata": {
    "pycharm": {
     "name": "#%%\n"
    }
   },
   "outputs": [
    {
     "name": "stdout",
     "output_type": "stream",
     "text": [
      "              time              event\n",
      "0     5.848265e+04        run 0 onset\n",
      "1     1.189224e+06        buttonpress\n",
      "2     5.848265e+04  block 0 onset c_n\n",
      "3     1.204328e+06        buttonpress\n",
      "4     1.204398e+06          MRI pulse\n",
      "...            ...                ...\n",
      "1162  2.283479e+06       button press\n",
      "1163  2.284363e+06     trial 17 onset\n",
      "1164  2.285780e+06         stim onset\n",
      "1165  2.286063e+06       signal onset\n",
      "1166  2.286587e+06       button press\n",
      "\n",
      "[1167 rows x 2 columns]\n"
     ]
    },
    {
     "data": {
      "text/html": [
       "<div>\n",
       "<style scoped>\n",
       "    .dataframe tbody tr th:only-of-type {\n",
       "        vertical-align: middle;\n",
       "    }\n",
       "\n",
       "    .dataframe tbody tr th {\n",
       "        vertical-align: top;\n",
       "    }\n",
       "\n",
       "    .dataframe thead th {\n",
       "        text-align: right;\n",
       "    }\n",
       "</style>\n",
       "<table border=\"1\" class=\"dataframe\">\n",
       "  <thead>\n",
       "    <tr style=\"text-align: right;\">\n",
       "      <th></th>\n",
       "      <th>time</th>\n",
       "      <th>event</th>\n",
       "    </tr>\n",
       "  </thead>\n",
       "  <tbody>\n",
       "    <tr>\n",
       "      <th>0</th>\n",
       "      <td>5.848265e+04</td>\n",
       "      <td>run 0 onset</td>\n",
       "    </tr>\n",
       "    <tr>\n",
       "      <th>1</th>\n",
       "      <td>1.189224e+06</td>\n",
       "      <td>buttonpress</td>\n",
       "    </tr>\n",
       "    <tr>\n",
       "      <th>2</th>\n",
       "      <td>5.848265e+04</td>\n",
       "      <td>block 0 onset c_n</td>\n",
       "    </tr>\n",
       "    <tr>\n",
       "      <th>3</th>\n",
       "      <td>1.204328e+06</td>\n",
       "      <td>buttonpress</td>\n",
       "    </tr>\n",
       "    <tr>\n",
       "      <th>4</th>\n",
       "      <td>1.204398e+06</td>\n",
       "      <td>MRI pulse</td>\n",
       "    </tr>\n",
       "    <tr>\n",
       "      <th>...</th>\n",
       "      <td>...</td>\n",
       "      <td>...</td>\n",
       "    </tr>\n",
       "    <tr>\n",
       "      <th>1162</th>\n",
       "      <td>2.283479e+06</td>\n",
       "      <td>button press</td>\n",
       "    </tr>\n",
       "    <tr>\n",
       "      <th>1163</th>\n",
       "      <td>2.284363e+06</td>\n",
       "      <td>trial 17 onset</td>\n",
       "    </tr>\n",
       "    <tr>\n",
       "      <th>1164</th>\n",
       "      <td>2.285780e+06</td>\n",
       "      <td>stim onset</td>\n",
       "    </tr>\n",
       "    <tr>\n",
       "      <th>1165</th>\n",
       "      <td>2.286063e+06</td>\n",
       "      <td>signal onset</td>\n",
       "    </tr>\n",
       "    <tr>\n",
       "      <th>1166</th>\n",
       "      <td>2.286587e+06</td>\n",
       "      <td>button press</td>\n",
       "    </tr>\n",
       "  </tbody>\n",
       "</table>\n",
       "<p>1167 rows × 2 columns</p>\n",
       "</div>"
      ],
      "text/plain": [
       "              time              event\n",
       "0     5.848265e+04        run 0 onset\n",
       "1     1.189224e+06        buttonpress\n",
       "2     5.848265e+04  block 0 onset c_n\n",
       "3     1.204328e+06        buttonpress\n",
       "4     1.204398e+06          MRI pulse\n",
       "...            ...                ...\n",
       "1162  2.283479e+06       button press\n",
       "1163  2.284363e+06     trial 17 onset\n",
       "1164  2.285780e+06         stim onset\n",
       "1165  2.286063e+06       signal onset\n",
       "1166  2.286587e+06       button press\n",
       "\n",
       "[1167 rows x 2 columns]"
      ]
     },
     "execution_count": 5,
     "metadata": {},
     "output_type": "execute_result"
    }
   ],
   "source": [
    "# Scratchpad\n",
    "import pandas as pd\n",
    "\n",
    "events = pd.read_table(\"~/ownCloud/PhD/RED/Go-NoGo data/GNG Task Data/99013_events.txt\", sep='\\t')\n",
    "print(events)\n",
    "\n",
    "events_df = pd.DataFrame(data=events)\n",
    "events_df"
   ]
  },
  {
   "cell_type": "code",
   "execution_count": 6,
   "metadata": {},
   "outputs": [
    {
     "data": {
      "text/plain": [
       "time     float64\n",
       "event     object\n",
       "dtype: object"
      ]
     },
     "execution_count": 6,
     "metadata": {},
     "output_type": "execute_result"
    }
   ],
   "source": [
    "# just check what kind of variables these are\n",
    "test_df = events_df\n",
    "test_df\n",
    "\n",
    "test_df.dtypes"
   ]
  },
  {
   "cell_type": "code",
   "execution_count": 18,
   "metadata": {},
   "outputs": [],
   "source": [
    "## Get first MRI pulse value\n",
    "\n",
    "# Grab all the rows with \"MRI pulse\" in the event column\n",
    "pulse = test_df[test_df.event.str.contains('MRI pulse')]\n",
    "\n",
    "# Extract first column into new dataframe (this only has the time)\n",
    "pulse_value = pulse.time\n",
    "\n",
    "# Make this into a list to then save into a variable value to call\n",
    "pulse_value = pulse_value.values.tolist()\n",
    "mri_pulse = pulse_value[0] #use this as subtraction value"
   ]
  },
  {
   "cell_type": "code",
   "execution_count": 105,
   "metadata": {
    "scrolled": true
   },
   "outputs": [
    {
     "data": {
      "text/html": [
       "<div>\n",
       "<style scoped>\n",
       "    .dataframe tbody tr th:only-of-type {\n",
       "        vertical-align: middle;\n",
       "    }\n",
       "\n",
       "    .dataframe tbody tr th {\n",
       "        vertical-align: top;\n",
       "    }\n",
       "\n",
       "    .dataframe thead th {\n",
       "        text-align: right;\n",
       "    }\n",
       "</style>\n",
       "<table border=\"1\" class=\"dataframe\">\n",
       "  <thead>\n",
       "    <tr style=\"text-align: right;\">\n",
       "      <th></th>\n",
       "      <th>time</th>\n",
       "      <th>event</th>\n",
       "      <th>emotion</th>\n",
       "    </tr>\n",
       "  </thead>\n",
       "  <tbody>\n",
       "    <tr>\n",
       "      <th>2</th>\n",
       "      <td>5.848265e+04</td>\n",
       "      <td>block 0 onset c_n</td>\n",
       "      <td>n_n</td>\n",
       "    </tr>\n",
       "    <tr>\n",
       "      <th>71</th>\n",
       "      <td>1.549647e+09</td>\n",
       "      <td>block 1 onset h_n</td>\n",
       "      <td>NaN</td>\n",
       "    </tr>\n",
       "    <tr>\n",
       "      <th>141</th>\n",
       "      <td>1.549647e+09</td>\n",
       "      <td>block 2 onset s_g</td>\n",
       "      <td>NaN</td>\n",
       "    </tr>\n",
       "    <tr>\n",
       "      <th>216</th>\n",
       "      <td>1.549647e+09</td>\n",
       "      <td>block 3 onset s_n</td>\n",
       "      <td>NaN</td>\n",
       "    </tr>\n",
       "    <tr>\n",
       "      <th>286</th>\n",
       "      <td>1.549647e+09</td>\n",
       "      <td>block 4 onset h_g</td>\n",
       "      <td>NaN</td>\n",
       "    </tr>\n",
       "    <tr>\n",
       "      <th>360</th>\n",
       "      <td>1.549647e+09</td>\n",
       "      <td>block 5 onset n_g</td>\n",
       "      <td>NaN</td>\n",
       "    </tr>\n",
       "    <tr>\n",
       "      <th>435</th>\n",
       "      <td>1.549647e+09</td>\n",
       "      <td>block 6 onset n_n</td>\n",
       "      <td>NaN</td>\n",
       "    </tr>\n",
       "    <tr>\n",
       "      <th>506</th>\n",
       "      <td>1.549647e+09</td>\n",
       "      <td>block 7 onset c_g</td>\n",
       "      <td>NaN</td>\n",
       "    </tr>\n",
       "    <tr>\n",
       "      <th>583</th>\n",
       "      <td>1.736830e+06</td>\n",
       "      <td>block 0 onset n_g</td>\n",
       "      <td>NaN</td>\n",
       "    </tr>\n",
       "    <tr>\n",
       "      <th>658</th>\n",
       "      <td>1.549647e+09</td>\n",
       "      <td>block 1 onset c_n</td>\n",
       "      <td>NaN</td>\n",
       "    </tr>\n",
       "    <tr>\n",
       "      <th>730</th>\n",
       "      <td>1.549647e+09</td>\n",
       "      <td>block 2 onset s_n</td>\n",
       "      <td>NaN</td>\n",
       "    </tr>\n",
       "    <tr>\n",
       "      <th>801</th>\n",
       "      <td>1.549647e+09</td>\n",
       "      <td>block 3 onset h_n</td>\n",
       "      <td>NaN</td>\n",
       "    </tr>\n",
       "    <tr>\n",
       "      <th>872</th>\n",
       "      <td>1.549647e+09</td>\n",
       "      <td>block 4 onset n_n</td>\n",
       "      <td>NaN</td>\n",
       "    </tr>\n",
       "    <tr>\n",
       "      <th>943</th>\n",
       "      <td>1.549647e+09</td>\n",
       "      <td>block 5 onset h_g</td>\n",
       "      <td>NaN</td>\n",
       "    </tr>\n",
       "    <tr>\n",
       "      <th>1018</th>\n",
       "      <td>1.549648e+09</td>\n",
       "      <td>block 6 onset s_g</td>\n",
       "      <td>NaN</td>\n",
       "    </tr>\n",
       "    <tr>\n",
       "      <th>1092</th>\n",
       "      <td>1.549648e+09</td>\n",
       "      <td>block 7 onset c_g</td>\n",
       "      <td>NaN</td>\n",
       "    </tr>\n",
       "  </tbody>\n",
       "</table>\n",
       "</div>"
      ],
      "text/plain": [
       "              time              event emotion\n",
       "2     5.848265e+04  block 0 onset c_n     n_n\n",
       "71    1.549647e+09  block 1 onset h_n     NaN\n",
       "141   1.549647e+09  block 2 onset s_g     NaN\n",
       "216   1.549647e+09  block 3 onset s_n     NaN\n",
       "286   1.549647e+09  block 4 onset h_g     NaN\n",
       "360   1.549647e+09  block 5 onset n_g     NaN\n",
       "435   1.549647e+09  block 6 onset n_n     NaN\n",
       "506   1.549647e+09  block 7 onset c_g     NaN\n",
       "583   1.736830e+06  block 0 onset n_g     NaN\n",
       "658   1.549647e+09  block 1 onset c_n     NaN\n",
       "730   1.549647e+09  block 2 onset s_n     NaN\n",
       "801   1.549647e+09  block 3 onset h_n     NaN\n",
       "872   1.549647e+09  block 4 onset n_n     NaN\n",
       "943   1.549647e+09  block 5 onset h_g     NaN\n",
       "1018  1.549648e+09  block 6 onset s_g     NaN\n",
       "1092  1.549648e+09  block 7 onset c_g     NaN"
      ]
     },
     "execution_count": 105,
     "metadata": {},
     "output_type": "execute_result"
    }
   ],
   "source": [
    "## Identify all conditions and blocks\n",
    "\n",
    "# Extract rows containing block names\n",
    "block_names = ['s_n', 's_g', 'n_n', 'n_g', 'h_n', 'h_g', 'c_n', 'c_g']\n",
    "\n",
    "blocks = test_df[test_df.event.str.contains('|'.join(block_names ))]\n",
    "sLength = len(blocks['event'])\n",
    "blocks = blocks.assign(emotion=pd.Series(block_names))\n",
    "blocks\n",
    "# blocks = blocks.assign(emotion=pd.Series(np.random.randn(sLength)).values)\n",
    "# for i in block_names:\n",
    "#     if i in blocks['event']:\n",
    "#         blocks['emotion'] = i\n",
    "#         print(i)\n",
    "\n",
    "# for i in block_names:\n",
    "#     if np.where(blocks)\n",
    "#     print(str(i))"
   ]
  },
  {
   "cell_type": "code",
   "execution_count": 98,
   "metadata": {},
   "outputs": [],
   "source": [
    "emotion = []\n",
    "for i in block_names:\n",
    "    if i in blocks['event']:\n",
    "        emotion.append(block_names[i])"
   ]
  },
  {
   "cell_type": "code",
   "execution_count": 99,
   "metadata": {},
   "outputs": [
    {
     "data": {
      "text/plain": [
       "[]"
      ]
     },
     "execution_count": 99,
     "metadata": {},
     "output_type": "execute_result"
    }
   ],
   "source": [
    "for emo in blocks['event']:\n",
    "    if emo in block_names[]:\n",
    "        emotion.append(block_names[emo])"
   ]
  },
  {
   "cell_type": "code",
   "execution_count": 16,
   "metadata": {
    "pycharm": {
     "name": "#%%\n"
    }
   },
   "outputs": [
    {
     "data": {
      "text/html": [
       "<div>\n",
       "<style scoped>\n",
       "    .dataframe tbody tr th:only-of-type {\n",
       "        vertical-align: middle;\n",
       "    }\n",
       "\n",
       "    .dataframe tbody tr th {\n",
       "        vertical-align: top;\n",
       "    }\n",
       "\n",
       "    .dataframe thead th {\n",
       "        text-align: right;\n",
       "    }\n",
       "</style>\n",
       "<table border=\"1\" class=\"dataframe\">\n",
       "  <thead>\n",
       "    <tr style=\"text-align: right;\">\n",
       "      <th></th>\n",
       "      <th>conditions</th>\n",
       "      <th>onsets</th>\n",
       "      <th>duration</th>\n",
       "      <th>trial_type</th>\n",
       "      <th>emotion</th>\n",
       "    </tr>\n",
       "  </thead>\n",
       "  <tbody>\n",
       "    <tr>\n",
       "      <th>0</th>\n",
       "      <td>s_n</td>\n",
       "      <td>0</td>\n",
       "      <td>60</td>\n",
       "      <td>nogo</td>\n",
       "      <td>sad</td>\n",
       "    </tr>\n",
       "    <tr>\n",
       "      <th>1</th>\n",
       "      <td>s_g</td>\n",
       "      <td>0</td>\n",
       "      <td>60</td>\n",
       "      <td>go</td>\n",
       "      <td>sad</td>\n",
       "    </tr>\n",
       "    <tr>\n",
       "      <th>2</th>\n",
       "      <td>n_n</td>\n",
       "      <td>0</td>\n",
       "      <td>60</td>\n",
       "      <td>nogo</td>\n",
       "      <td>neutral</td>\n",
       "    </tr>\n",
       "    <tr>\n",
       "      <th>3</th>\n",
       "      <td>n_g</td>\n",
       "      <td>0</td>\n",
       "      <td>60</td>\n",
       "      <td>go</td>\n",
       "      <td>neutral</td>\n",
       "    </tr>\n",
       "    <tr>\n",
       "      <th>4</th>\n",
       "      <td>h_n</td>\n",
       "      <td>0</td>\n",
       "      <td>60</td>\n",
       "      <td>nogo</td>\n",
       "      <td>happy</td>\n",
       "    </tr>\n",
       "    <tr>\n",
       "      <th>5</th>\n",
       "      <td>h_g</td>\n",
       "      <td>0</td>\n",
       "      <td>60</td>\n",
       "      <td>go</td>\n",
       "      <td>happy</td>\n",
       "    </tr>\n",
       "    <tr>\n",
       "      <th>6</th>\n",
       "      <td>c_n</td>\n",
       "      <td>0</td>\n",
       "      <td>60</td>\n",
       "      <td>nogo</td>\n",
       "      <td>control</td>\n",
       "    </tr>\n",
       "    <tr>\n",
       "      <th>7</th>\n",
       "      <td>c_g</td>\n",
       "      <td>0</td>\n",
       "      <td>60</td>\n",
       "      <td>go</td>\n",
       "      <td>control</td>\n",
       "    </tr>\n",
       "  </tbody>\n",
       "</table>\n",
       "</div>"
      ],
      "text/plain": [
       "  conditions  onsets  duration trial_type  emotion\n",
       "0        s_n       0        60       nogo      sad\n",
       "1        s_g       0        60         go      sad\n",
       "2        n_n       0        60       nogo  neutral\n",
       "3        n_g       0        60         go  neutral\n",
       "4        h_n       0        60       nogo    happy\n",
       "5        h_g       0        60         go    happy\n",
       "6        c_n       0        60       nogo  control\n",
       "7        c_g       0        60         go  control"
      ]
     },
     "execution_count": 16,
     "metadata": {},
     "output_type": "execute_result"
    }
   ],
   "source": [
    "d = {'conditions': ['s_n', 's_g', 'n_n', 'n_g', 'h_n', 'h_g', 'c_n', 'c_g'],\n",
    "     'onsets': [0, 0, 0, 0, 0, 0, 0, 0],\n",
    "     'duration': [60, 60, 60, 60, 60, 60, 60, 60],\n",
    "     'trial_type': ['nogo', 'go', 'nogo', 'go', 'nogo', 'go', 'nogo', 'go'],\n",
    "    'emotion': ['sad', 'sad', 'neutral', 'neutral', 'happy', 'happy', 'control', 'control']}\n",
    "df = pd.DataFrame(data=d)\n",
    "df"
   ]
  },
  {
   "cell_type": "code",
   "execution_count": 13,
   "metadata": {},
   "outputs": [
    {
     "data": {
      "text/plain": [
       "'run 0 onset'"
      ]
     },
     "execution_count": 13,
     "metadata": {},
     "output_type": "execute_result"
    }
   ],
   "source": [
    "df.iloc[1, 1]\n",
    "events_df.iloc[0,1]"
   ]
  },
  {
   "cell_type": "code",
   "execution_count": 32,
   "metadata": {},
   "outputs": [
    {
     "ename": "TypeError",
     "evalue": "unhashable type: 'list'",
     "output_type": "error",
     "traceback": [
      "\u001b[0;31m---------------------------------------------------------------------------\u001b[0m",
      "\u001b[0;31mTypeError\u001b[0m                                 Traceback (most recent call last)",
      "\u001b[0;32m<ipython-input-32-cdbf2763d38d>\u001b[0m in \u001b[0;36m<module>\u001b[0;34m\u001b[0m\n\u001b[1;32m      1\u001b[0m \u001b[0msearch_values\u001b[0m \u001b[0;34m=\u001b[0m \u001b[0;34m[\u001b[0m\u001b[0;34m's_n'\u001b[0m\u001b[0;34m,\u001b[0m \u001b[0;34m's_g'\u001b[0m\u001b[0;34m]\u001b[0m\u001b[0;34m\u001b[0m\u001b[0;34m\u001b[0m\u001b[0m\n\u001b[0;32m----> 2\u001b[0;31m \u001b[0mdf\u001b[0m\u001b[0;34m[\u001b[0m\u001b[0mdf\u001b[0m\u001b[0;34m.\u001b[0m\u001b[0mconditions\u001b[0m\u001b[0;34m.\u001b[0m\u001b[0mstr\u001b[0m\u001b[0;34m.\u001b[0m\u001b[0mcontains\u001b[0m\u001b[0;34m(\u001b[0m\u001b[0;34m(\u001b[0m\u001b[0msearch_values\u001b[0m\u001b[0;34m)\u001b[0m\u001b[0;34m,\u001b[0m \u001b[0mcase\u001b[0m\u001b[0;34m=\u001b[0m\u001b[0;32mFalse\u001b[0m\u001b[0;34m)\u001b[0m\u001b[0;34m]\u001b[0m\u001b[0;34m\u001b[0m\u001b[0;34m\u001b[0m\u001b[0m\n\u001b[0m",
      "\u001b[0;32m~/anaconda3/lib/python3.8/site-packages/pandas/core/strings.py\u001b[0m in \u001b[0;36mwrapper\u001b[0;34m(self, *args, **kwargs)\u001b[0m\n\u001b[1;32m   1999\u001b[0m                 )\n\u001b[1;32m   2000\u001b[0m                 \u001b[0;32mraise\u001b[0m \u001b[0mTypeError\u001b[0m\u001b[0;34m(\u001b[0m\u001b[0mmsg\u001b[0m\u001b[0;34m)\u001b[0m\u001b[0;34m\u001b[0m\u001b[0;34m\u001b[0m\u001b[0m\n\u001b[0;32m-> 2001\u001b[0;31m             \u001b[0;32mreturn\u001b[0m \u001b[0mfunc\u001b[0m\u001b[0;34m(\u001b[0m\u001b[0mself\u001b[0m\u001b[0;34m,\u001b[0m \u001b[0;34m*\u001b[0m\u001b[0margs\u001b[0m\u001b[0;34m,\u001b[0m \u001b[0;34m**\u001b[0m\u001b[0mkwargs\u001b[0m\u001b[0;34m)\u001b[0m\u001b[0;34m\u001b[0m\u001b[0;34m\u001b[0m\u001b[0m\n\u001b[0m\u001b[1;32m   2002\u001b[0m \u001b[0;34m\u001b[0m\u001b[0m\n\u001b[1;32m   2003\u001b[0m         \u001b[0mwrapper\u001b[0m\u001b[0;34m.\u001b[0m\u001b[0m__name__\u001b[0m \u001b[0;34m=\u001b[0m \u001b[0mfunc_name\u001b[0m\u001b[0;34m\u001b[0m\u001b[0;34m\u001b[0m\u001b[0m\n",
      "\u001b[0;32m~/anaconda3/lib/python3.8/site-packages/pandas/core/strings.py\u001b[0m in \u001b[0;36mcontains\u001b[0;34m(self, pat, case, flags, na, regex)\u001b[0m\n\u001b[1;32m   2822\u001b[0m     \u001b[0;34m@\u001b[0m\u001b[0mforbid_nonstring_types\u001b[0m\u001b[0;34m(\u001b[0m\u001b[0;34m[\u001b[0m\u001b[0;34m\"bytes\"\u001b[0m\u001b[0;34m]\u001b[0m\u001b[0;34m)\u001b[0m\u001b[0;34m\u001b[0m\u001b[0;34m\u001b[0m\u001b[0m\n\u001b[1;32m   2823\u001b[0m     \u001b[0;32mdef\u001b[0m \u001b[0mcontains\u001b[0m\u001b[0;34m(\u001b[0m\u001b[0mself\u001b[0m\u001b[0;34m,\u001b[0m \u001b[0mpat\u001b[0m\u001b[0;34m,\u001b[0m \u001b[0mcase\u001b[0m\u001b[0;34m=\u001b[0m\u001b[0;32mTrue\u001b[0m\u001b[0;34m,\u001b[0m \u001b[0mflags\u001b[0m\u001b[0;34m=\u001b[0m\u001b[0;36m0\u001b[0m\u001b[0;34m,\u001b[0m \u001b[0mna\u001b[0m\u001b[0;34m=\u001b[0m\u001b[0mnp\u001b[0m\u001b[0;34m.\u001b[0m\u001b[0mnan\u001b[0m\u001b[0;34m,\u001b[0m \u001b[0mregex\u001b[0m\u001b[0;34m=\u001b[0m\u001b[0;32mTrue\u001b[0m\u001b[0;34m)\u001b[0m\u001b[0;34m:\u001b[0m\u001b[0;34m\u001b[0m\u001b[0;34m\u001b[0m\u001b[0m\n\u001b[0;32m-> 2824\u001b[0;31m         result = str_contains(\n\u001b[0m\u001b[1;32m   2825\u001b[0m             \u001b[0mself\u001b[0m\u001b[0;34m.\u001b[0m\u001b[0m_parent\u001b[0m\u001b[0;34m,\u001b[0m \u001b[0mpat\u001b[0m\u001b[0;34m,\u001b[0m \u001b[0mcase\u001b[0m\u001b[0;34m=\u001b[0m\u001b[0mcase\u001b[0m\u001b[0;34m,\u001b[0m \u001b[0mflags\u001b[0m\u001b[0;34m=\u001b[0m\u001b[0mflags\u001b[0m\u001b[0;34m,\u001b[0m \u001b[0mna\u001b[0m\u001b[0;34m=\u001b[0m\u001b[0mna\u001b[0m\u001b[0;34m,\u001b[0m \u001b[0mregex\u001b[0m\u001b[0;34m=\u001b[0m\u001b[0mregex\u001b[0m\u001b[0;34m\u001b[0m\u001b[0;34m\u001b[0m\u001b[0m\n\u001b[1;32m   2826\u001b[0m         )\n",
      "\u001b[0;32m~/anaconda3/lib/python3.8/site-packages/pandas/core/strings.py\u001b[0m in \u001b[0;36mstr_contains\u001b[0;34m(arr, pat, case, flags, na, regex)\u001b[0m\n\u001b[1;32m    437\u001b[0m             \u001b[0mflags\u001b[0m \u001b[0;34m|=\u001b[0m \u001b[0mre\u001b[0m\u001b[0;34m.\u001b[0m\u001b[0mIGNORECASE\u001b[0m\u001b[0;34m\u001b[0m\u001b[0;34m\u001b[0m\u001b[0m\n\u001b[1;32m    438\u001b[0m \u001b[0;34m\u001b[0m\u001b[0m\n\u001b[0;32m--> 439\u001b[0;31m         \u001b[0mregex\u001b[0m \u001b[0;34m=\u001b[0m \u001b[0mre\u001b[0m\u001b[0;34m.\u001b[0m\u001b[0mcompile\u001b[0m\u001b[0;34m(\u001b[0m\u001b[0mpat\u001b[0m\u001b[0;34m,\u001b[0m \u001b[0mflags\u001b[0m\u001b[0;34m=\u001b[0m\u001b[0mflags\u001b[0m\u001b[0;34m)\u001b[0m\u001b[0;34m\u001b[0m\u001b[0;34m\u001b[0m\u001b[0m\n\u001b[0m\u001b[1;32m    440\u001b[0m \u001b[0;34m\u001b[0m\u001b[0m\n\u001b[1;32m    441\u001b[0m         \u001b[0;32mif\u001b[0m \u001b[0mregex\u001b[0m\u001b[0;34m.\u001b[0m\u001b[0mgroups\u001b[0m \u001b[0;34m>\u001b[0m \u001b[0;36m0\u001b[0m\u001b[0;34m:\u001b[0m\u001b[0;34m\u001b[0m\u001b[0;34m\u001b[0m\u001b[0m\n",
      "\u001b[0;32m~/anaconda3/lib/python3.8/re.py\u001b[0m in \u001b[0;36mcompile\u001b[0;34m(pattern, flags)\u001b[0m\n\u001b[1;32m    250\u001b[0m \u001b[0;32mdef\u001b[0m \u001b[0mcompile\u001b[0m\u001b[0;34m(\u001b[0m\u001b[0mpattern\u001b[0m\u001b[0;34m,\u001b[0m \u001b[0mflags\u001b[0m\u001b[0;34m=\u001b[0m\u001b[0;36m0\u001b[0m\u001b[0;34m)\u001b[0m\u001b[0;34m:\u001b[0m\u001b[0;34m\u001b[0m\u001b[0;34m\u001b[0m\u001b[0m\n\u001b[1;32m    251\u001b[0m     \u001b[0;34m\"Compile a regular expression pattern, returning a Pattern object.\"\u001b[0m\u001b[0;34m\u001b[0m\u001b[0;34m\u001b[0m\u001b[0m\n\u001b[0;32m--> 252\u001b[0;31m     \u001b[0;32mreturn\u001b[0m \u001b[0m_compile\u001b[0m\u001b[0;34m(\u001b[0m\u001b[0mpattern\u001b[0m\u001b[0;34m,\u001b[0m \u001b[0mflags\u001b[0m\u001b[0;34m)\u001b[0m\u001b[0;34m\u001b[0m\u001b[0;34m\u001b[0m\u001b[0m\n\u001b[0m\u001b[1;32m    253\u001b[0m \u001b[0;34m\u001b[0m\u001b[0m\n\u001b[1;32m    254\u001b[0m \u001b[0;32mdef\u001b[0m \u001b[0mpurge\u001b[0m\u001b[0;34m(\u001b[0m\u001b[0;34m)\u001b[0m\u001b[0;34m:\u001b[0m\u001b[0;34m\u001b[0m\u001b[0;34m\u001b[0m\u001b[0m\n",
      "\u001b[0;32m~/anaconda3/lib/python3.8/re.py\u001b[0m in \u001b[0;36m_compile\u001b[0;34m(pattern, flags)\u001b[0m\n\u001b[1;32m    292\u001b[0m         \u001b[0mflags\u001b[0m \u001b[0;34m=\u001b[0m \u001b[0mflags\u001b[0m\u001b[0;34m.\u001b[0m\u001b[0mvalue\u001b[0m\u001b[0;34m\u001b[0m\u001b[0;34m\u001b[0m\u001b[0m\n\u001b[1;32m    293\u001b[0m     \u001b[0;32mtry\u001b[0m\u001b[0;34m:\u001b[0m\u001b[0;34m\u001b[0m\u001b[0;34m\u001b[0m\u001b[0m\n\u001b[0;32m--> 294\u001b[0;31m         \u001b[0;32mreturn\u001b[0m \u001b[0m_cache\u001b[0m\u001b[0;34m[\u001b[0m\u001b[0mtype\u001b[0m\u001b[0;34m(\u001b[0m\u001b[0mpattern\u001b[0m\u001b[0;34m)\u001b[0m\u001b[0;34m,\u001b[0m \u001b[0mpattern\u001b[0m\u001b[0;34m,\u001b[0m \u001b[0mflags\u001b[0m\u001b[0;34m]\u001b[0m\u001b[0;34m\u001b[0m\u001b[0;34m\u001b[0m\u001b[0m\n\u001b[0m\u001b[1;32m    295\u001b[0m     \u001b[0;32mexcept\u001b[0m \u001b[0mKeyError\u001b[0m\u001b[0;34m:\u001b[0m\u001b[0;34m\u001b[0m\u001b[0;34m\u001b[0m\u001b[0m\n\u001b[1;32m    296\u001b[0m         \u001b[0;32mpass\u001b[0m\u001b[0;34m\u001b[0m\u001b[0;34m\u001b[0m\u001b[0m\n",
      "\u001b[0;31mTypeError\u001b[0m: unhashable type: 'list'"
     ]
    }
   ],
   "source": [
    "# define subtraction from MRI pulse\n",
    "def onset_time(file, onset_subtraction):\n",
    "    with open(file, 'r') as infile:\n",
    "        reader = csv.DictReader(infile, delimiter='\\t', skipinitialspace=True)\n",
    "        df = pd.DataFrame(data=reader)\n",
    "        pulse = reader.iloc[4,0] #this is the first MRI pulse in each text file\n",
    "        condition = search\n",
    "        for row in reader:\n",
    "            val = row['event']\n",
    "            try:\n",
    "                f = float(val) #this is to discard NAs and not count them\n",
    "                sum += f\n",
    "                count += 1\n",
    "            except:\n",
    "                continue\n",
    "\n",
    "        fdmap[file] = sum / count if count  != 0 else 0"
   ]
  }
 ],
 "metadata": {
  "kernelspec": {
   "display_name": "Python 3",
   "language": "python",
   "name": "python3"
  },
  "language_info": {
   "codemirror_mode": {
    "name": "ipython",
    "version": 3
   },
   "file_extension": ".py",
   "mimetype": "text/x-python",
   "name": "python",
   "nbconvert_exporter": "python",
   "pygments_lexer": "ipython3",
   "version": "3.8.5"
  }
 },
 "nbformat": 4,
 "nbformat_minor": 4
}
